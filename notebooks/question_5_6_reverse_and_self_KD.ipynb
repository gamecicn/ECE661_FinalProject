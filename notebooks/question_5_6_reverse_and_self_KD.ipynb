{
  "nbformat": 4,
  "nbformat_minor": 0,
  "metadata": {
    "colab": {
      "name": "QuestionPaper2_new.ipynb",
      "provenance": [],
      "collapsed_sections": [],
      "toc_visible": true
    },
    "kernelspec": {
      "name": "python3",
      "display_name": "Python 3"
    },
    "language_info": {
      "name": "python"
    },
    "accelerator": "GPU"
  },
  "cells": [
    {
      "cell_type": "code",
      "metadata": {
        "colab": {
          "base_uri": "https://localhost:8080/"
        },
        "id": "Yom2joyA7VQb",
        "outputId": "ea39ee7e-5014-4261-9494-1de026db458c"
      },
      "source": [
        "# set working dictionary\n",
        "import os\n",
        "import sys\n",
        "from google.colab import drive\n",
        "\n",
        "drive.mount('/content/drive')\n",
        "\n",
        "\n",
        "os.chdir('/content/drive/MyDrive/ECE661/FinalProject')\n",
        "sys.path.append('/content/drive/MyDrive/ECE661/FinalProject')\n",
        "\n",
        "\n",
        "##################################\n",
        "\n",
        "# import necessary dependencies\n",
        "import argparse\n",
        "import os, sys\n",
        "import time\n",
        "from datetime import datetime \n",
        "from tqdm import tqdm_notebook as tqdm\n",
        "\n",
        "import torch\n",
        "import torch.nn as nn\n",
        "import torch.nn.functional as F\n",
        "\n",
        "import torchvision\n",
        "from torchvision import datasets, transforms\n",
        "import torch.optim as optim\n",
        "import matplotlib.pyplot as plt\n",
        "import numpy as np\n",
        "import pandas as pd\n",
        "\n",
        "\n",
        "DEVICE = \"cuda\" if torch.cuda.is_available() else \"cpu\"\n",
        "print(\"device:\", DEVICE)\n"
      ],
      "execution_count": null,
      "outputs": [
        {
          "output_type": "stream",
          "name": "stdout",
          "text": [
            "Mounted at /content/drive\n",
            "device: cuda\n"
          ]
        }
      ]
    },
    {
      "cell_type": "markdown",
      "metadata": {
        "id": "1sztfUlrFtjN"
      },
      "source": [
        "# Download Data - Cifar10"
      ]
    },
    {
      "cell_type": "code",
      "metadata": {
        "colab": {
          "base_uri": "https://localhost:8080/"
        },
        "id": "7R8Oe5q7EGQ9",
        "outputId": "41694576-4e3d-4f7a-a85a-31eecdd53019"
      },
      "source": [
        " \n",
        "\n",
        "train_loader = torch.utils.data.DataLoader(\n",
        "    datasets.CIFAR10(root='./data', train=True, transform=transforms.Compose([\n",
        "        transforms.RandomCrop(32, padding=4),\n",
        "        transforms.RandomHorizontalFlip(),\n",
        "        transforms.ToTensor(),\n",
        "        transforms.Normalize((0.4914, 0.4822, 0.4465), (0.2023, 0.1994, 0.2010)),\n",
        "    ]), download=True),\n",
        "    batch_size=128, shuffle=True)\n",
        "\n",
        "val_loader = torch.utils.data.DataLoader(\n",
        "    datasets.CIFAR10(root='./data', train=False, transform=transforms.Compose([\n",
        "        transforms.ToTensor(),\n",
        "        transforms.Normalize((0.4914, 0.4822, 0.4465), (0.2023, 0.1994, 0.2010)),\n",
        "    ])),\n",
        "    batch_size=100, shuffle=False)\n",
        "\n",
        "def get_accuracy(model, data_loader, device):\n",
        "    '''\n",
        "    Function for computing the accuracy of the predictions over the entire data_loader\n",
        "    '''\n",
        "    \n",
        "    correct_pred = 0 \n",
        "    n = 0\n",
        "    \n",
        "    with torch.no_grad():\n",
        "        model.eval()\n",
        "        for X, y_true in data_loader:\n",
        "\n",
        "            X = X.to(device)\n",
        "            y_true = y_true.to(device)\n",
        "\n",
        "            y_prob = model(X)\n",
        "            predicted_labels = torch.argmax(y_prob, 1)\n",
        "\n",
        "            n += y_true.size(0)\n",
        "            correct_pred += (predicted_labels == y_true).sum()\n",
        "\n",
        "    return correct_pred.float() / n\n",
        "\n"
      ],
      "execution_count": null,
      "outputs": [
        {
          "output_type": "stream",
          "name": "stdout",
          "text": [
            "Files already downloaded and verified\n"
          ]
        }
      ]
    },
    {
      "cell_type": "markdown",
      "metadata": {
        "id": "A5Hc8PZyGVaG"
      },
      "source": [
        "# Model Define\n",
        "\n",
        "- Teacher Model ： ResNet18\n",
        "- Student Model ： VGG13"
      ]
    },
    {
      "cell_type": "markdown",
      "source": [
        "## Utility Fucntions"
      ],
      "metadata": {
        "id": "0fewvAODCxxm"
      }
    },
    {
      "cell_type": "code",
      "source": [
        "def plot_losses(train_losses, valid_losses):\n",
        "    '''\n",
        "    Function for plotting training and validation losses\n",
        "    '''\n",
        "    \n",
        "    # temporarily change the style of the plots to seaborn \n",
        "    plt.style.use('seaborn')\n",
        "\n",
        "    train_losses = np.array(train_losses) \n",
        "    valid_losses = np.array(valid_losses)\n",
        "\n",
        "    fig, ax = plt.subplots(figsize = (8, 4.5))\n",
        "\n",
        "    ax.plot(train_losses, color='blue', label='Training loss') \n",
        "    ax.plot(valid_losses, color='red', label='Validation loss')\n",
        "    ax.set(title=\"Loss over epochs\", \n",
        "            xlabel='Epoch',\n",
        "            ylabel='Loss') \n",
        "    ax.legend()\n",
        "    fig.show()\n",
        "    \n",
        "    # change the plot style to default\n",
        "    plt.style.use('default')\n",
        "\n",
        "def train(train_loader, model, criterion, optimizer, device):\n",
        "    '''\n",
        "    Function for the training step of the training loop\n",
        "    '''\n",
        "    model.train()\n",
        "    running_loss = 0\n",
        "    \n",
        "    for X, y_true in train_loader:\n",
        "\n",
        "        optimizer.zero_grad()\n",
        "        \n",
        "        X = X.to(device)\n",
        "        y_true = y_true.to(device)\n",
        "    \n",
        "        # Forward pass\n",
        "        y_hat = model(X) \n",
        "        loss = criterion(y_hat, y_true) \n",
        "        running_loss += loss.item() * X.size(0)\n",
        "\n",
        "        # Backward pass\n",
        "        loss.backward()\n",
        "        optimizer.step()\n",
        "        \n",
        "    epoch_loss = running_loss / len(train_loader.dataset)\n",
        "    return model, optimizer, epoch_loss\n",
        "\n",
        "def validate(valid_loader, model, criterion, device):\n",
        "    '''\n",
        "    Function for the validation step of the training loop\n",
        "    '''\n",
        "   \n",
        "    model.eval()\n",
        "    running_loss = 0\n",
        "    \n",
        "    for X, y_true in valid_loader:\n",
        "    \n",
        "        X = X.to(device)\n",
        "        y_true = y_true.to(device)\n",
        "\n",
        "        # Forward pass and record loss\n",
        "        y_hat = model(X) \n",
        "        loss = criterion(y_hat, y_true) \n",
        "        running_loss += loss.item() * X.size(0)\n",
        "\n",
        "    epoch_loss = running_loss / len(valid_loader.dataset)\n",
        "        \n",
        "    return model, epoch_loss\n",
        "\n",
        "\n",
        "def training_loop(model, criterion, optimizer, train_loader, valid_loader, epochs, device, scheduler, print_every=1):\n",
        "    '''\n",
        "    Function defining the entire training loop\n",
        "    '''\n",
        "    \n",
        "    # set objects for storing metrics\n",
        "    best_loss = 1e10\n",
        "    train_losses = []\n",
        "    valid_losses = []\n",
        " \n",
        "    # Train model\n",
        "    for epoch in range(0, epochs):\n",
        "\n",
        "        # training\n",
        "        model, optimizer, train_loss = train(train_loader, model, criterion, optimizer, device)\n",
        "        train_losses.append(train_loss)\n",
        "\n",
        "        # validation\n",
        "        with torch.no_grad():\n",
        "            model, valid_loss = validate(valid_loader, model, criterion, device)\n",
        "            valid_losses.append(valid_loss)\n",
        "\n",
        "        if epoch % print_every == (print_every - 1):\n",
        "            \n",
        "            train_acc = get_accuracy(model, train_loader, device=device)\n",
        "            valid_acc = get_accuracy(model, valid_loader, device=device)\n",
        "                \n",
        "            print(f'{datetime.now().time().replace(microsecond=0)} --- '\n",
        "                  f'Epoch: {epoch}\\t'\n",
        "                  f'Train loss: {train_loss:.4f}\\t'\n",
        "                  f'Valid loss: {valid_loss:.4f}\\t'\n",
        "                  f'Train accuracy: {100 * train_acc:.2f}\\t'\n",
        "                  f'Valid accuracy: {100 * valid_acc:.2f}')\n",
        "            \n",
        "        scheduler.step()\n",
        "\n",
        "    plot_losses(train_losses, valid_losses)\n",
        "    \n",
        "    return model, optimizer, (train_losses, valid_losses)\n",
        "\n"
      ],
      "metadata": {
        "id": "r2Nzdc-RCy-r"
      },
      "execution_count": null,
      "outputs": []
    },
    {
      "cell_type": "markdown",
      "source": [
        "## ResNet18\n"
      ],
      "metadata": {
        "id": "5ijLT3ppC6Jc"
      }
    },
    {
      "cell_type": "code",
      "source": [
        "import torch.nn.functional as F\n",
        "import torch.nn as nn\n",
        "\n",
        "class BasicBlock(nn.Module):\n",
        "    expansion = 1\n",
        "\n",
        "    def __init__(self, in_planes, planes, stride=1):\n",
        "        super(BasicBlock, self).__init__()\n",
        "        self.conv1 = nn.Conv2d(\n",
        "            in_planes, planes, kernel_size=3, stride=stride, padding=1, bias=False)\n",
        "        self.bn1 = nn.BatchNorm2d(planes)\n",
        "        self.conv2 = nn.Conv2d(planes, planes, kernel_size=3,\n",
        "                               stride=1, padding=1, bias=False)\n",
        "        self.bn2 = nn.BatchNorm2d(planes)\n",
        "\n",
        "        self.shortcut = nn.Sequential()\n",
        "        if stride != 1 or in_planes != self.expansion*planes:\n",
        "            self.shortcut = nn.Sequential(\n",
        "                nn.Conv2d(in_planes, self.expansion*planes,\n",
        "                          kernel_size=1, stride=stride, bias=False),\n",
        "                nn.BatchNorm2d(self.expansion*planes)\n",
        "            )\n",
        "\n",
        "    def forward(self, x):\n",
        "        out = F.relu(self.bn1(self.conv1(x)))\n",
        "        out = self.bn2(self.conv2(out))\n",
        "        out += self.shortcut(x)\n",
        "        out = F.relu(out)\n",
        "        return out\n",
        "\n",
        "\n",
        "class ResNet(nn.Module):\n",
        "    def __init__(self, block, num_blocks, num_classes=10):\n",
        "        super(ResNet, self).__init__()\n",
        "        self.in_planes = 64\n",
        "\n",
        "        self.conv1 = nn.Conv2d(3, 64, kernel_size=3,\n",
        "                               stride=1, padding=1, bias=False)\n",
        "        self.bn1 = nn.BatchNorm2d(64)\n",
        "        self.layer1 = self._make_layer(block, 64, num_blocks[0], stride=1)\n",
        "        self.layer2 = self._make_layer(block, 128, num_blocks[1], stride=2)\n",
        "        self.layer3 = self._make_layer(block, 256, num_blocks[2], stride=2)\n",
        "        self.layer4 = self._make_layer(block, 512, num_blocks[3], stride=2)\n",
        "        self.linear = nn.Linear(512*block.expansion, num_classes)\n",
        "\n",
        "    def _make_layer(self, block, planes, num_blocks, stride):\n",
        "        strides = [stride] + [1]*(num_blocks-1)\n",
        "        layers = []\n",
        "        for stride in strides:\n",
        "            layers.append(block(self.in_planes, planes, stride))\n",
        "            self.in_planes = planes * block.expansion\n",
        "        return nn.Sequential(*layers)\n",
        "\n",
        "    def forward(self, x):\n",
        "        out = F.relu(self.bn1(self.conv1(x)))\n",
        "        out = self.layer1(out)\n",
        "        out = self.layer2(out)\n",
        "        out = self.layer3(out)\n",
        "        out = self.layer4(out)\n",
        "        out = F.avg_pool2d(out, 4)\n",
        "        out = out.view(out.size(0), -1)\n",
        "        out = self.linear(out)\n",
        "        return out\n",
        "\n",
        "def ResNet18():\n",
        "    return ResNet(BasicBlock, [2, 2, 2, 2]).to(DEVICE)"
      ],
      "metadata": {
        "id": "z-7W6l6qC57f"
      },
      "execution_count": null,
      "outputs": []
    },
    {
      "cell_type": "markdown",
      "source": [
        "## VGG13"
      ],
      "metadata": {
        "id": "r0gyrzhxDRaU"
      }
    },
    {
      "cell_type": "code",
      "metadata": {
        "id": "JA_dE6NQGUF4"
      },
      "source": [
        "cfg = {\n",
        "    'VGG11': [64, 'M', 128, 'M', 256, 256, 'M', 512, 512, 'M', 512, 512, 'M'],\n",
        "    'VGG13': [64, 64, 'M', 128, 128, 'M', 256, 256, 'M', 512, 512, 'M', 512, 512, 'M'],\n",
        "    'VGG16': [64, 64, 'M', 128, 128, 'M', 256, 256, 256, 'M', 512, 512, 512, 'M', 512, 512, 512, 'M'],\n",
        "    'VGG19': [64, 64, 'M', 128, 128, 'M', 256, 256, 256, 256, 'M', 512, 512, 512, 512, 'M', 512, 512, 512, 512, 'M'],\n",
        "}\n",
        "\n",
        "\n",
        "class VGG(nn.Module):\n",
        "    def __init__(self, vgg_name):\n",
        "        super(VGG, self).__init__()\n",
        "        self.features = self._make_layers(cfg[vgg_name])\n",
        "        self.classifier = nn.Linear(512, 10)\n",
        "\n",
        "    def forward(self, x):\n",
        "        out = self.features(x)\n",
        "        out = out.view(out.size(0), -1)\n",
        "        out = self.classifier(out)\n",
        "        return out\n",
        "\n",
        "    def _make_layers(self, cfg):\n",
        "        layers = []\n",
        "        in_channels = 3\n",
        "        for x in cfg:\n",
        "            if x == 'M':\n",
        "                layers += [nn.MaxPool2d(kernel_size=2, stride=2)]\n",
        "            else:\n",
        "                layers += [nn.Conv2d(in_channels, x, kernel_size=3, padding=1),\n",
        "                           nn.BatchNorm2d(x),\n",
        "                           nn.ReLU(inplace=True)]\n",
        "                in_channels = x\n",
        "        layers += [nn.AvgPool2d(kernel_size=1, stride=1)]\n",
        "        return nn.Sequential(*layers)\n",
        "\n",
        "\n",
        "\n",
        "\n",
        "def VGG13():\n",
        "    return VGG('VGG13').to(DEVICE)\n"
      ],
      "execution_count": null,
      "outputs": []
    },
    {
      "cell_type": "markdown",
      "source": [
        "# Normal Train"
      ],
      "metadata": {
        "id": "IAixBr31Dcse"
      }
    },
    {
      "cell_type": "markdown",
      "metadata": {
        "id": "BeD7p9aWPFVq"
      },
      "source": [
        "## Train VGG"
      ]
    },
    {
      "cell_type": "code",
      "metadata": {
        "id": "dY-3kmgKF8Wk"
      },
      "source": [
        "import os.path\n",
        "\n",
        "RANDOM_SEED = 1234\n",
        "RES18_CP = \"ResNet18_new_ground_truth_91.pt\"\n",
        "\n",
        "torch.manual_seed(RANDOM_SEED)\n",
        "\n",
        "model_student = ResNet18()\n",
        "\n",
        "if os.path.exists(RES18_CP):\n",
        "\n",
        "  # load model Directly\n",
        "  print(\"==========> Load Parameters\")\n",
        "  model_student.load_state_dict(torch.load(RES18_CP))\n",
        "  \n",
        "else:\n",
        "\n",
        "  # If model not trained \n",
        "  print(\"==========> Not find checkpoint, train\")\n",
        "\n",
        "  N_EPOCHS = 40\n",
        "\n",
        "  criterion = nn.CrossEntropyLoss()\n",
        "  optimizer = optim.SGD(model_student.parameters(), lr=0.01,\n",
        "               momentum=0.9, weight_decay=5e-4)\n",
        "  scheduler = torch.optim.lr_scheduler.CosineAnnealingLR(optimizer, T_max=200)\n",
        "\n",
        "  model_student, optimizer, _ = training_loop(model_student, criterion, optimizer, train_loader, val_loader, N_EPOCHS, DEVICE, scheduler)\n",
        "\n",
        "  # Save model \n",
        "  torch.save(model_student.state_dict(), RES18_CP)\n"
      ],
      "execution_count": null,
      "outputs": []
    },
    {
      "cell_type": "markdown",
      "metadata": {
        "id": "o0tZEblwubUb"
      },
      "source": [
        "## Train ResNet\n"
      ]
    },
    {
      "cell_type": "code",
      "metadata": {
        "id": "_mbu_oTNud6j"
      },
      "source": [
        "import os.path\n",
        "\n",
        "RANDOM_SEED = 1234\n",
        "TEACHER_VGG13_CP = \"VGG13_cifar_ground_truth.pt\"\n",
        "\n",
        "torch.manual_seed(RANDOM_SEED)\n",
        "\n",
        "model_teacher = VGG('VGG13').to(DEVICE)\n",
        "\n",
        "if os.path.exists(TEACHER_VGG13_CP):\n",
        "\n",
        "  # load model Directly\n",
        "  print(\"==========> Load Parameters\")\n",
        "  model_teacher.load_state_dict(torch.load(TEACHER_VGG13_CP))\n",
        "  \n",
        "else:\n",
        "\n",
        "  # If model not trained \n",
        "  print(\"==========> Not find checkpoint, train\")\n",
        "\n",
        "  N_EPOCHS = 40\n",
        "\n",
        "  criterion = nn.CrossEntropyLoss()\n",
        "  optimizer = optim.SGD(model_teacher.parameters(), lr=0.01,\n",
        "               momentum=0.9, weight_decay=5e-4)\n",
        "  scheduler = torch.optim.lr_scheduler.CosineAnnealingLR(optimizer, T_max=200)\n",
        "\n",
        "\n",
        "  model_student, optimizer, _ = training_loop(model_teacher, criterion, optimizer, train_loader, val_loader, N_EPOCHS, DEVICE, scheduler)\n",
        "\n",
        "  # Save model \n",
        "  torch.save(model_teacher.state_dict(), TEACHER_VGG13_CP)"
      ],
      "execution_count": null,
      "outputs": []
    },
    {
      "cell_type": "markdown",
      "metadata": {
        "id": "8v-XABefuYeL"
      },
      "source": [
        "# KD Utility Fucntions"
      ]
    },
    {
      "cell_type": "code",
      "metadata": {
        "id": "b8BQFeDMlHW8"
      },
      "source": [
        "def plot_losses_soft(train_losses, valid_losses, title_prefix):\n",
        "    '''\n",
        "    Function for plotting training and validation losses\n",
        "    '''\n",
        "    plt.figure(figsize=(6, 4),dpi=100)\n",
        "    train_losses = np.array(train_losses) \n",
        "    valid_losses = np.array(valid_losses)\n",
        "    \n",
        "    plt.plot(train_losses, color='blue', label='Training loss') \n",
        "    plt.plot(valid_losses, color='red', label='Validation loss')\n",
        "    plt.title(f\"{title_prefix}: Loss over epochs\") \n",
        "    plt.xlabel('Epoch')\n",
        "    plt.ylabel('Loss') \n",
        "    plt.legend()\n",
        "    \n",
        "    plt.show()\n",
        "\n",
        "def train_soft(train_loader, model, criterion, optimizer, device, teacher_model=None):\n",
        "    '''\n",
        "    Function for the training step of the training loop\n",
        "    '''\n",
        "    model.train()\n",
        "    running_loss = 0\n",
        "    \n",
        "    for X, y_true in train_loader:\n",
        "\n",
        "        optimizer.zero_grad()\n",
        "        \n",
        "        X = X.to(device)\n",
        "        y_true = y_true.to(device)\n",
        "    \n",
        "        # Forward pass\n",
        "        y_hat = model(X) \n",
        "        if not teacher_model:\n",
        "            loss = criterion(y_hat, y_true)\n",
        "        else:\n",
        "            with torch.no_grad():\n",
        "                y_teacher = teacher_model(X)\n",
        "            loss = criterion(y_hat, y_true, y_teacher)\n",
        "            \n",
        "        running_loss += loss.item() * X.size(0)\n",
        "\n",
        "        # Backward pass\n",
        "        loss.backward()\n",
        "        optimizer.step()\n",
        "        \n",
        "    epoch_loss = running_loss / len(train_loader.dataset)\n",
        "    return model, optimizer, epoch_loss\n",
        "\n",
        "\n",
        "def training_loop_soft(model, train_criterion, valid_criterion, scheduler, optimizer, train_loader, valid_loader, \n",
        "                  epochs, device, params, print_every=1, teacher_model=None):\n",
        "    '''\n",
        "    Function defining the entire training loop\n",
        "    '''\n",
        "    # set objects for storing metrics\n",
        "    best_loss = 1e10\n",
        "    train_losses = []\n",
        "    valid_losses = []\n",
        "    acc_epochs = []\n",
        "    train_accus = []\n",
        "    valid_accus = []\n",
        "    \n",
        "\n",
        "    # Train model\n",
        "    for epoch in range(0, epochs):\n",
        "\n",
        "        # training\n",
        "        model, optimizer, train_loss = train_soft(train_loader, model, train_criterion, optimizer, device, teacher_model)\n",
        "        train_losses.append(train_loss)\n",
        "\n",
        "        # validation\n",
        "        with torch.no_grad():\n",
        "            model, valid_loss = validate(valid_loader, model, valid_criterion, device)\n",
        "            valid_losses.append(valid_loss)\n",
        "\n",
        "        if epoch % print_every == (print_every - 1):\n",
        "            acc_epochs.append(epoch)\n",
        "            train_acc = get_accuracy(model, train_loader, device=device)\n",
        "            train_accus.append(train_acc)\n",
        "            valid_acc = get_accuracy(model, valid_loader, device=device)\n",
        "            valid_accus.append(valid_acc)\n",
        "                \n",
        "            print(f'{datetime.now().time().replace(microsecond=0)} --- '\n",
        "                  f'Epoch: {epoch}\\t'\n",
        "                  f'Train loss: {train_loss:.4f}\\t'\n",
        "                  f'Valid loss: {valid_loss:.4f}\\t'\n",
        "                  f'Train accuracy: {100 * train_acc:.2f}\\t'\n",
        "                  f'Valid accuracy: {100 * valid_acc:.2f}')\n",
        "            \n",
        "        scheduler.step()\n",
        "\n",
        "    # save metrics\n",
        "    plot_losses_soft(train_losses, valid_losses, params['title'])\n",
        "\n",
        "    str_time = datetime.now().strftime(\"%m-%d_%H-%M\")\n",
        "    \n",
        "    return model, optimizer, (train_losses, valid_losses)\n",
        "\n",
        "class SoftCrossEntropyLoss(nn.Module):\n",
        "    def __init__(self, temperature, alpha):\n",
        "        super(SoftCrossEntropyLoss, self).__init__()\n",
        "        self.T = temperature\n",
        "        self.alpha = alpha\n",
        "    \n",
        "    def forward(self, student_pred, label, teacher_pred):\n",
        "        return nn.KLDivLoss(reduction=\"batchmean\")(F.log_softmax(student_pred/self.T,dim=1), F.softmax(teacher_pred/self.T, dim=1)) * self.alpha * self.T * self.T + \\\n",
        "    F.cross_entropy(student_pred, label) * (1-self.alpha)\n"
      ],
      "execution_count": null,
      "outputs": []
    },
    {
      "cell_type": "markdown",
      "metadata": {
        "id": "RkUOmWHEcP8x"
      },
      "source": [
        "# Reverse KD\n"
      ]
    },
    {
      "cell_type": "code",
      "metadata": {
        "id": "KgzGC0-yioMo"
      },
      "source": [
        "# Train\n",
        "temperatures = [8, 10, 15, 20]\n",
        "N_EPOCHS = 40\n",
        "ALPHA = 0.95\n",
        "\n",
        "VGG13_CP = \"VGG13_cifar_ground_truth.pt\"\n",
        "model_teacher = VGG13()\n",
        "model_teacher.load_state_dict(torch.load(VGG13_CP))\n",
        "\n",
        "for t in temperatures:\n",
        "\n",
        "    model_student = ResNet18()\n",
        "\n",
        "    print(f\"=======> Temperature: {t}\")\n",
        " \n",
        "    optimizer = optim.SGD(model_student.parameters(), lr=0.01,\n",
        "               momentum=0.9, weight_decay=5e-4)\n",
        "    scheduler = torch.optim.lr_scheduler.CosineAnnealingLR(optimizer, T_max=200)\n",
        "\n",
        "    valid_criterion = nn.CrossEntropyLoss()\n",
        "    train_criterion = SoftCrossEntropyLoss(t, ALPHA)\n",
        "\n",
        "    prefix = f\"student_T{t}_α{ALPHA}\"\n",
        "    dir_path = f\"./student_models/{prefix}\"\n",
        "\n",
        "    #if not os.path.exists(dir_path):\n",
        "    #    os.makedirs(dir_path, exist_ok=True)\n",
        "    \n",
        "    params = {\"dir\": dir_path,\n",
        "          \"prefix\": prefix, \n",
        "          \"title\": f\"Student T{t} α{ALPHA}\"\n",
        "         }\n",
        "\n",
        "    model_student, optimizer, _ = training_loop_soft(model_student, train_criterion, valid_criterion, scheduler, optimizer, train_loader, val_loader,\n",
        "                                        N_EPOCHS, DEVICE, params, teacher_model=model_teacher)\n",
        "    \n",
        "    torch.save(model_student.state_dict(), f\"ResNet18_learn_from_Vgg13_t{t}.pt\")   "
      ],
      "execution_count": null,
      "outputs": []
    },
    {
      "cell_type": "markdown",
      "metadata": {
        "id": "kaQn-qfgsxLU"
      },
      "source": [
        "# Teacher-Free KD "
      ]
    },
    {
      "cell_type": "markdown",
      "source": [
        "## ResNet18"
      ],
      "metadata": {
        "id": "KAswd7mpD0oS"
      }
    },
    {
      "cell_type": "code",
      "metadata": {
        "colab": {
          "base_uri": "https://localhost:8080/",
          "height": 1000
        },
        "id": "s3Bf_lvvs0QV",
        "outputId": "b09de93f-61ab-4a52-b290-00a3d0327ded"
      },
      "source": [
        "# Train\n",
        "temperatures = [2, 5]\n",
        "N_EPOCHS = 40\n",
        "ALPHA = 0.95\n",
        "\n",
        "RES18_CP = \"ResNet18_new_ground_truth_91.pt\"\n",
        "model_teacher = ResNet18()\n",
        "model_teacher.load_state_dict(torch.load(RES18_CP))\n",
        "\n",
        "for t in temperatures:\n",
        "\n",
        "    print(f\"=======> Temperature: {t}\")\n",
        "\n",
        "    model_student = ResNet18()\n",
        " \n",
        "    optimizer = optim.SGD(model_student.parameters(), lr=0.01,\n",
        "               momentum=0.9, weight_decay=5e-4)\n",
        "    scheduler = torch.optim.lr_scheduler.CosineAnnealingLR(optimizer, T_max=200)\n",
        "\n",
        "    valid_criterion = nn.CrossEntropyLoss()\n",
        "    train_criterion = SoftCrossEntropyLoss(t, ALPHA)\n",
        "\n",
        "    prefix = f\"student_T{t}_α{ALPHA}\"\n",
        "    dir_path = f\"./student_models/{prefix}\"\n",
        "\n",
        "    #if not os.path.exists(dir_path):\n",
        "    #    os.makedirs(dir_path, exist_ok=True)\n",
        "    \n",
        "    params = {\"dir\": dir_path,\n",
        "          \"prefix\": prefix, \n",
        "          \"title\": f\"Student T{t} α{ALPHA}\"\n",
        "         }\n",
        "\n",
        "    model_student, optimizer, _ = training_loop_soft(model_student, train_criterion, valid_criterion, scheduler, optimizer, train_loader, val_loader,\n",
        "                                        N_EPOCHS, DEVICE, params, teacher_model=model_teacher)\n",
        "    \n",
        "    torch.save(model_student.state_dict(), f\"ResNet18_self_kd_t{t}.pt\")   \n",
        "\n"
      ],
      "execution_count": null,
      "outputs": [
        {
          "output_type": "stream",
          "name": "stdout",
          "text": [
            "=======> Temperature: 2\n",
            "23:01:33 --- Epoch: 0\tTrain loss: 4.6775\tValid loss: 1.8032\tTrain accuracy: 54.09\tValid accuracy: 53.92\n",
            "23:02:48 --- Epoch: 1\tTrain loss: 2.7745\tValid loss: 0.9270\tTrain accuracy: 73.70\tValid accuracy: 73.57\n",
            "23:04:02 --- Epoch: 2\tTrain loss: 1.9627\tValid loss: 0.8974\tTrain accuracy: 77.76\tValid accuracy: 76.79\n",
            "23:05:17 --- Epoch: 3\tTrain loss: 1.5499\tValid loss: 0.7650\tTrain accuracy: 80.35\tValid accuracy: 80.31\n",
            "23:06:32 --- Epoch: 4\tTrain loss: 1.2896\tValid loss: 0.7430\tTrain accuracy: 81.86\tValid accuracy: 80.28\n",
            "23:07:47 --- Epoch: 5\tTrain loss: 1.1069\tValid loss: 0.5601\tTrain accuracy: 86.02\tValid accuracy: 84.34\n",
            "23:09:02 --- Epoch: 6\tTrain loss: 0.9657\tValid loss: 0.6073\tTrain accuracy: 86.27\tValid accuracy: 84.10\n",
            "23:10:17 --- Epoch: 7\tTrain loss: 0.8556\tValid loss: 0.5950\tTrain accuracy: 87.03\tValid accuracy: 84.51\n",
            "23:11:31 --- Epoch: 8\tTrain loss: 0.7691\tValid loss: 0.5136\tTrain accuracy: 89.09\tValid accuracy: 86.19\n",
            "23:12:46 --- Epoch: 9\tTrain loss: 0.6897\tValid loss: 0.4427\tTrain accuracy: 90.85\tValid accuracy: 87.99\n",
            "23:14:01 --- Epoch: 10\tTrain loss: 0.6322\tValid loss: 0.5441\tTrain accuracy: 89.42\tValid accuracy: 86.15\n",
            "23:15:16 --- Epoch: 11\tTrain loss: 0.5779\tValid loss: 0.4448\tTrain accuracy: 91.24\tValid accuracy: 88.16\n",
            "23:16:31 --- Epoch: 12\tTrain loss: 0.5352\tValid loss: 0.4065\tTrain accuracy: 92.82\tValid accuracy: 89.07\n",
            "23:17:47 --- Epoch: 13\tTrain loss: 0.4913\tValid loss: 0.3782\tTrain accuracy: 93.86\tValid accuracy: 89.70\n",
            "23:19:03 --- Epoch: 14\tTrain loss: 0.4629\tValid loss: 0.3777\tTrain accuracy: 93.88\tValid accuracy: 89.86\n",
            "23:20:19 --- Epoch: 15\tTrain loss: 0.4376\tValid loss: 0.3942\tTrain accuracy: 94.36\tValid accuracy: 89.64\n",
            "23:21:35 --- Epoch: 16\tTrain loss: 0.4114\tValid loss: 0.3898\tTrain accuracy: 93.78\tValid accuracy: 89.71\n",
            "23:22:51 --- Epoch: 17\tTrain loss: 0.3754\tValid loss: 0.3691\tTrain accuracy: 94.80\tValid accuracy: 90.03\n",
            "23:24:08 --- Epoch: 18\tTrain loss: 0.3493\tValid loss: 0.3443\tTrain accuracy: 95.23\tValid accuracy: 90.67\n",
            "23:25:25 --- Epoch: 19\tTrain loss: 0.3321\tValid loss: 0.3941\tTrain accuracy: 94.82\tValid accuracy: 89.92\n",
            "23:26:42 --- Epoch: 20\tTrain loss: 0.3221\tValid loss: 0.3655\tTrain accuracy: 95.67\tValid accuracy: 90.47\n",
            "23:27:59 --- Epoch: 21\tTrain loss: 0.2995\tValid loss: 0.3931\tTrain accuracy: 94.83\tValid accuracy: 89.85\n",
            "23:29:15 --- Epoch: 22\tTrain loss: 0.2844\tValid loss: 0.3321\tTrain accuracy: 96.31\tValid accuracy: 91.24\n",
            "23:30:32 --- Epoch: 23\tTrain loss: 0.2731\tValid loss: 0.3722\tTrain accuracy: 95.86\tValid accuracy: 90.41\n",
            "23:31:49 --- Epoch: 24\tTrain loss: 0.2591\tValid loss: 0.3359\tTrain accuracy: 96.45\tValid accuracy: 91.30\n",
            "23:33:06 --- Epoch: 25\tTrain loss: 0.2429\tValid loss: 0.3686\tTrain accuracy: 95.86\tValid accuracy: 90.23\n",
            "23:34:23 --- Epoch: 26\tTrain loss: 0.2418\tValid loss: 0.3324\tTrain accuracy: 96.86\tValid accuracy: 91.18\n",
            "23:35:40 --- Epoch: 27\tTrain loss: 0.2248\tValid loss: 0.3053\tTrain accuracy: 97.18\tValid accuracy: 91.72\n",
            "23:36:57 --- Epoch: 28\tTrain loss: 0.2224\tValid loss: 0.3182\tTrain accuracy: 97.16\tValid accuracy: 91.40\n",
            "23:38:13 --- Epoch: 29\tTrain loss: 0.2166\tValid loss: 0.3001\tTrain accuracy: 97.27\tValid accuracy: 91.77\n",
            "23:39:30 --- Epoch: 30\tTrain loss: 0.2097\tValid loss: 0.3366\tTrain accuracy: 96.95\tValid accuracy: 91.01\n",
            "23:40:47 --- Epoch: 31\tTrain loss: 0.1985\tValid loss: 0.3286\tTrain accuracy: 96.88\tValid accuracy: 91.44\n",
            "23:42:04 --- Epoch: 32\tTrain loss: 0.1947\tValid loss: 0.3189\tTrain accuracy: 97.37\tValid accuracy: 91.84\n",
            "23:43:21 --- Epoch: 33\tTrain loss: 0.1979\tValid loss: 0.3060\tTrain accuracy: 97.62\tValid accuracy: 91.72\n",
            "23:44:38 --- Epoch: 34\tTrain loss: 0.1893\tValid loss: 0.3227\tTrain accuracy: 97.43\tValid accuracy: 91.27\n",
            "23:45:55 --- Epoch: 35\tTrain loss: 0.1898\tValid loss: 0.3169\tTrain accuracy: 97.27\tValid accuracy: 91.47\n",
            "23:47:12 --- Epoch: 36\tTrain loss: 0.1867\tValid loss: 0.3172\tTrain accuracy: 97.02\tValid accuracy: 91.64\n",
            "23:48:28 --- Epoch: 37\tTrain loss: 0.1799\tValid loss: 0.3355\tTrain accuracy: 97.22\tValid accuracy: 91.12\n",
            "23:49:44 --- Epoch: 38\tTrain loss: 0.1697\tValid loss: 0.3052\tTrain accuracy: 97.64\tValid accuracy: 91.76\n",
            "23:51:00 --- Epoch: 39\tTrain loss: 0.1725\tValid loss: 0.3122\tTrain accuracy: 97.71\tValid accuracy: 91.60\n"
          ]
        },
        {
          "output_type": "display_data",
          "data": {
            "image/png": "[encoded data removed]",
            "text/plain": [
              "<Figure size 600x400 with 1 Axes>"
            ]
          },
          "metadata": {
            "needs_background": "light"
          }
        },
        {
          "output_type": "stream",
          "name": "stdout",
          "text": [
            "=======> Temperature: 5\n",
            "23:52:16 --- Epoch: 0\tTrain loss: 9.7869\tValid loss: 2.0184\tTrain accuracy: 61.71\tValid accuracy: 61.17\n",
            "23:53:31 --- Epoch: 1\tTrain loss: 5.1285\tValid loss: 1.2044\tTrain accuracy: 73.52\tValid accuracy: 74.20\n",
            "23:54:45 --- Epoch: 2\tTrain loss: 3.3580\tValid loss: 0.9327\tTrain accuracy: 80.90\tValid accuracy: 80.36\n",
            "23:56:00 --- Epoch: 3\tTrain loss: 2.5168\tValid loss: 0.8995\tTrain accuracy: 82.38\tValid accuracy: 81.34\n",
            "23:57:14 --- Epoch: 4\tTrain loss: 2.0379\tValid loss: 0.8081\tTrain accuracy: 85.15\tValid accuracy: 83.32\n",
            "23:58:29 --- Epoch: 5\tTrain loss: 1.6841\tValid loss: 0.6244\tTrain accuracy: 88.07\tValid accuracy: 86.29\n",
            "23:59:43 --- Epoch: 6\tTrain loss: 1.4443\tValid loss: 0.5480\tTrain accuracy: 90.02\tValid accuracy: 87.29\n",
            "00:00:58 --- Epoch: 7\tTrain loss: 1.2360\tValid loss: 0.5716\tTrain accuracy: 89.78\tValid accuracy: 87.60\n",
            "00:02:12 --- Epoch: 8\tTrain loss: 1.1080\tValid loss: 0.5270\tTrain accuracy: 91.02\tValid accuracy: 87.85\n",
            "00:03:25 --- Epoch: 9\tTrain loss: 0.9917\tValid loss: 0.4625\tTrain accuracy: 92.78\tValid accuracy: 89.15\n",
            "00:04:40 --- Epoch: 10\tTrain loss: 0.9041\tValid loss: 0.4473\tTrain accuracy: 92.98\tValid accuracy: 89.55\n",
            "00:05:56 --- Epoch: 11\tTrain loss: 0.8203\tValid loss: 0.4457\tTrain accuracy: 93.80\tValid accuracy: 89.56\n",
            "00:07:11 --- Epoch: 12\tTrain loss: 0.7654\tValid loss: 0.4500\tTrain accuracy: 93.52\tValid accuracy: 89.80\n",
            "00:08:26 --- Epoch: 13\tTrain loss: 0.7014\tValid loss: 0.4005\tTrain accuracy: 94.57\tValid accuracy: 90.44\n",
            "00:09:40 --- Epoch: 14\tTrain loss: 0.6641\tValid loss: 0.3929\tTrain accuracy: 94.89\tValid accuracy: 90.72\n",
            "00:10:55 --- Epoch: 15\tTrain loss: 0.6232\tValid loss: 0.4127\tTrain accuracy: 94.66\tValid accuracy: 90.17\n",
            "00:12:10 --- Epoch: 16\tTrain loss: 0.5789\tValid loss: 0.3922\tTrain accuracy: 95.39\tValid accuracy: 90.91\n",
            "00:13:24 --- Epoch: 17\tTrain loss: 0.5538\tValid loss: 0.3757\tTrain accuracy: 95.63\tValid accuracy: 90.74\n",
            "00:14:39 --- Epoch: 18\tTrain loss: 0.5270\tValid loss: 0.3874\tTrain accuracy: 95.91\tValid accuracy: 90.84\n",
            "00:15:54 --- Epoch: 19\tTrain loss: 0.5065\tValid loss: 0.3765\tTrain accuracy: 95.87\tValid accuracy: 90.83\n",
            "00:17:09 --- Epoch: 20\tTrain loss: 0.4820\tValid loss: 0.3571\tTrain accuracy: 96.50\tValid accuracy: 91.34\n",
            "00:18:25 --- Epoch: 21\tTrain loss: 0.4614\tValid loss: 0.3679\tTrain accuracy: 96.84\tValid accuracy: 91.24\n",
            "00:19:40 --- Epoch: 22\tTrain loss: 0.4508\tValid loss: 0.3732\tTrain accuracy: 96.70\tValid accuracy: 91.12\n",
            "00:20:55 --- Epoch: 23\tTrain loss: 0.4317\tValid loss: 0.3630\tTrain accuracy: 96.90\tValid accuracy: 91.52\n",
            "00:22:10 --- Epoch: 24\tTrain loss: 0.4185\tValid loss: 0.3679\tTrain accuracy: 96.89\tValid accuracy: 91.20\n",
            "00:23:24 --- Epoch: 25\tTrain loss: 0.4057\tValid loss: 0.3411\tTrain accuracy: 97.22\tValid accuracy: 91.76\n",
            "00:24:39 --- Epoch: 26\tTrain loss: 0.4013\tValid loss: 0.3711\tTrain accuracy: 96.48\tValid accuracy: 91.07\n",
            "00:25:54 --- Epoch: 27\tTrain loss: 0.3900\tValid loss: 0.3448\tTrain accuracy: 97.05\tValid accuracy: 91.62\n",
            "00:27:09 --- Epoch: 28\tTrain loss: 0.3751\tValid loss: 0.3288\tTrain accuracy: 97.47\tValid accuracy: 91.99\n",
            "00:28:23 --- Epoch: 29\tTrain loss: 0.3687\tValid loss: 0.3352\tTrain accuracy: 97.66\tValid accuracy: 91.67\n",
            "00:29:38 --- Epoch: 30\tTrain loss: 0.3642\tValid loss: 0.3454\tTrain accuracy: 97.22\tValid accuracy: 91.58\n",
            "00:30:52 --- Epoch: 31\tTrain loss: 0.3603\tValid loss: 0.3435\tTrain accuracy: 97.51\tValid accuracy: 91.55\n",
            "00:32:07 --- Epoch: 32\tTrain loss: 0.3517\tValid loss: 0.3274\tTrain accuracy: 97.77\tValid accuracy: 92.00\n",
            "00:33:22 --- Epoch: 33\tTrain loss: 0.3436\tValid loss: 0.3509\tTrain accuracy: 97.12\tValid accuracy: 91.35\n",
            "00:34:36 --- Epoch: 34\tTrain loss: 0.3303\tValid loss: 0.3679\tTrain accuracy: 97.18\tValid accuracy: 91.32\n",
            "00:35:51 --- Epoch: 35\tTrain loss: 0.3337\tValid loss: 0.3707\tTrain accuracy: 96.87\tValid accuracy: 91.26\n",
            "00:37:06 --- Epoch: 36\tTrain loss: 0.3292\tValid loss: 0.3540\tTrain accuracy: 97.31\tValid accuracy: 91.39\n",
            "00:38:20 --- Epoch: 37\tTrain loss: 0.3237\tValid loss: 0.3307\tTrain accuracy: 97.78\tValid accuracy: 92.06\n",
            "00:39:35 --- Epoch: 38\tTrain loss: 0.3213\tValid loss: 0.3327\tTrain accuracy: 97.76\tValid accuracy: 91.62\n",
            "00:40:49 --- Epoch: 39\tTrain loss: 0.3148\tValid loss: 0.3409\tTrain accuracy: 97.93\tValid accuracy: 91.63\n"
          ]
        },
        {
          "output_type": "display_data",
          "data": {
            "image/png": "[encoded data removed]",
            "text/plain": [
              "<Figure size 600x400 with 1 Axes>"
            ]
          },
          "metadata": {
            "needs_background": "light"
          }
        },
        {
          "output_type": "stream",
          "name": "stdout",
          "text": [
            "=======> Temperature: 10\n",
            "00:42:05 --- Epoch: 0\tTrain loss: 8.4565\tValid loss: 2.1787\tTrain accuracy: 60.56\tValid accuracy: 60.03\n",
            "00:43:20 --- Epoch: 1\tTrain loss: 4.2825\tValid loss: 1.2505\tTrain accuracy: 75.72\tValid accuracy: 75.11\n",
            "00:44:35 --- Epoch: 2\tTrain loss: 2.7910\tValid loss: 0.9208\tTrain accuracy: 81.77\tValid accuracy: 80.79\n",
            "00:45:50 --- Epoch: 3\tTrain loss: 2.0899\tValid loss: 0.7840\tTrain accuracy: 85.30\tValid accuracy: 83.47\n",
            "00:47:05 --- Epoch: 4\tTrain loss: 1.6660\tValid loss: 0.6797\tTrain accuracy: 87.39\tValid accuracy: 85.44\n",
            "00:48:22 --- Epoch: 5\tTrain loss: 1.3733\tValid loss: 0.5612\tTrain accuracy: 89.51\tValid accuracy: 87.68\n"
          ]
        },
        {
          "output_type": "error",
          "ename": "KeyboardInterrupt",
          "evalue": "ignored",
          "traceback": [
            "\u001b[0;31m---------------------------------------------------------------------------\u001b[0m",
            "\u001b[0;31mKeyboardInterrupt\u001b[0m                         Traceback (most recent call last)",
            "\u001b[0;32m<ipython-input-56-1f7a16ae3f3d>\u001b[0m in \u001b[0;36m<module>\u001b[0;34m()\u001b[0m\n\u001b[1;32m     33\u001b[0m \u001b[0;34m\u001b[0m\u001b[0m\n\u001b[1;32m     34\u001b[0m     model_student, optimizer, _ = training_loop_soft(model_student, train_criterion, valid_criterion, scheduler, optimizer, train_loader, val_loader,\n\u001b[0;32m---> 35\u001b[0;31m                                         N_EPOCHS, DEVICE, params, teacher_model=model_teacher)\n\u001b[0m\u001b[1;32m     36\u001b[0m \u001b[0;34m\u001b[0m\u001b[0m\n\u001b[1;32m     37\u001b[0m     \u001b[0mtorch\u001b[0m\u001b[0;34m.\u001b[0m\u001b[0msave\u001b[0m\u001b[0;34m(\u001b[0m\u001b[0mmodel_student\u001b[0m\u001b[0;34m.\u001b[0m\u001b[0mstate_dict\u001b[0m\u001b[0;34m(\u001b[0m\u001b[0;34m)\u001b[0m\u001b[0;34m,\u001b[0m \u001b[0;34mf\"ResNet18_self_kd_t{t}.pt\"\u001b[0m\u001b[0;34m)\u001b[0m\u001b[0;34m\u001b[0m\u001b[0;34m\u001b[0m\u001b[0m\n",
            "\u001b[0;32m<ipython-input-32-4116f699cc34>\u001b[0m in \u001b[0;36mtraining_loop_soft\u001b[0;34m(model, train_criterion, valid_criterion, scheduler, optimizer, train_loader, valid_loader, epochs, device, params, print_every, teacher_model)\u001b[0m\n\u001b[1;32m     67\u001b[0m \u001b[0;34m\u001b[0m\u001b[0m\n\u001b[1;32m     68\u001b[0m         \u001b[0;31m# training\u001b[0m\u001b[0;34m\u001b[0m\u001b[0;34m\u001b[0m\u001b[0;34m\u001b[0m\u001b[0m\n\u001b[0;32m---> 69\u001b[0;31m         \u001b[0mmodel\u001b[0m\u001b[0;34m,\u001b[0m \u001b[0moptimizer\u001b[0m\u001b[0;34m,\u001b[0m \u001b[0mtrain_loss\u001b[0m \u001b[0;34m=\u001b[0m \u001b[0mtrain_soft\u001b[0m\u001b[0;34m(\u001b[0m\u001b[0mtrain_loader\u001b[0m\u001b[0;34m,\u001b[0m \u001b[0mmodel\u001b[0m\u001b[0;34m,\u001b[0m \u001b[0mtrain_criterion\u001b[0m\u001b[0;34m,\u001b[0m \u001b[0moptimizer\u001b[0m\u001b[0;34m,\u001b[0m \u001b[0mdevice\u001b[0m\u001b[0;34m,\u001b[0m \u001b[0mteacher_model\u001b[0m\u001b[0;34m)\u001b[0m\u001b[0;34m\u001b[0m\u001b[0;34m\u001b[0m\u001b[0m\n\u001b[0m\u001b[1;32m     70\u001b[0m         \u001b[0mtrain_losses\u001b[0m\u001b[0;34m.\u001b[0m\u001b[0mappend\u001b[0m\u001b[0;34m(\u001b[0m\u001b[0mtrain_loss\u001b[0m\u001b[0;34m)\u001b[0m\u001b[0;34m\u001b[0m\u001b[0;34m\u001b[0m\u001b[0m\n\u001b[1;32m     71\u001b[0m \u001b[0;34m\u001b[0m\u001b[0m\n",
            "\u001b[0;32m<ipython-input-32-4116f699cc34>\u001b[0m in \u001b[0;36mtrain_soft\u001b[0;34m(train_loader, model, criterion, optimizer, device, teacher_model)\u001b[0m\n\u001b[1;32m     39\u001b[0m             \u001b[0mloss\u001b[0m \u001b[0;34m=\u001b[0m \u001b[0mcriterion\u001b[0m\u001b[0;34m(\u001b[0m\u001b[0my_hat\u001b[0m\u001b[0;34m,\u001b[0m \u001b[0my_true\u001b[0m\u001b[0;34m,\u001b[0m \u001b[0my_teacher\u001b[0m\u001b[0;34m)\u001b[0m\u001b[0;34m\u001b[0m\u001b[0;34m\u001b[0m\u001b[0m\n\u001b[1;32m     40\u001b[0m \u001b[0;34m\u001b[0m\u001b[0m\n\u001b[0;32m---> 41\u001b[0;31m         \u001b[0mrunning_loss\u001b[0m \u001b[0;34m+=\u001b[0m \u001b[0mloss\u001b[0m\u001b[0;34m.\u001b[0m\u001b[0mitem\u001b[0m\u001b[0;34m(\u001b[0m\u001b[0;34m)\u001b[0m \u001b[0;34m*\u001b[0m \u001b[0mX\u001b[0m\u001b[0;34m.\u001b[0m\u001b[0msize\u001b[0m\u001b[0;34m(\u001b[0m\u001b[0;36m0\u001b[0m\u001b[0;34m)\u001b[0m\u001b[0;34m\u001b[0m\u001b[0;34m\u001b[0m\u001b[0m\n\u001b[0m\u001b[1;32m     42\u001b[0m \u001b[0;34m\u001b[0m\u001b[0m\n\u001b[1;32m     43\u001b[0m         \u001b[0;31m# Backward pass\u001b[0m\u001b[0;34m\u001b[0m\u001b[0;34m\u001b[0m\u001b[0;34m\u001b[0m\u001b[0m\n",
            "\u001b[0;31mKeyboardInterrupt\u001b[0m: "
          ]
        }
      ]
    },
    {
      "cell_type": "markdown",
      "metadata": {
        "id": "4G2fmYhZZglz"
      },
      "source": [
        "## VGG 13"
      ]
    },
    {
      "cell_type": "code",
      "metadata": {
        "colab": {
          "base_uri": "https://localhost:8080/",
          "height": 1000
        },
        "id": "VvG-OpOCZgOd",
        "outputId": "0e33784c-5627-4a9a-fcf3-a0f4c743779c"
      },
      "source": [
        "# Train\n",
        "temperatures = [2, 5]\n",
        "N_EPOCHS = 40\n",
        "ALPHA = 0.95\n",
        "\n",
        "VGG13_CP = \"VGG13_cifar_ground_truth.pt\"\n",
        "model_teacher = VGG13()\n",
        "model_teacher.load_state_dict(torch.load(VGG13_CP))\n",
        "\n",
        "for t in temperatures:\n",
        "\n",
        "    print(f\"=======> Temperature: {t}\")\n",
        "\n",
        "    model_student = VGG13()\n",
        " \n",
        "    optimizer = optim.SGD(model_student.parameters(), lr=0.01,\n",
        "               momentum=0.9, weight_decay=5e-4)\n",
        "    scheduler = torch.optim.lr_scheduler.CosineAnnealingLR(optimizer, T_max=200)\n",
        "\n",
        "    valid_criterion = nn.CrossEntropyLoss()\n",
        "    train_criterion = SoftCrossEntropyLoss(t, ALPHA)\n",
        "\n",
        "    prefix = f\"student_T{t}_α{ALPHA}\"\n",
        "    dir_path = f\"./student_models/{prefix}\"\n",
        "\n",
        "    #if not os.path.exists(dir_path):\n",
        "    #    os.makedirs(dir_path, exist_ok=True)\n",
        "    \n",
        "    params = {\"dir\": dir_path,\n",
        "          \"prefix\": prefix, \n",
        "          \"title\": f\"Student T{t} α{ALPHA}\"\n",
        "         }\n",
        "\n",
        "    model_student, optimizer, _ = training_loop_soft(model_student, train_criterion, valid_criterion, scheduler, optimizer, train_loader, val_loader,\n",
        "                                        N_EPOCHS, DEVICE, params, teacher_model=model_teacher)\n",
        "    \n",
        "    torch.save(model_student.state_dict(), f\"VGG13_self_kd_t{t}.pt\")   "
      ],
      "execution_count": null,
      "outputs": [
        {
          "output_type": "stream",
          "name": "stdout",
          "text": [
            "=======> Temperature: 2\n",
            "00:49:52 --- Epoch: 0\tTrain loss: 4.0118\tValid loss: 1.5877\tTrain accuracy: 59.85\tValid accuracy: 61.09\n",
            "00:50:53 --- Epoch: 1\tTrain loss: 2.1792\tValid loss: 1.0659\tTrain accuracy: 73.48\tValid accuracy: 72.79\n",
            "00:51:54 --- Epoch: 2\tTrain loss: 1.6030\tValid loss: 0.7889\tTrain accuracy: 78.55\tValid accuracy: 78.33\n",
            "00:52:56 --- Epoch: 3\tTrain loss: 1.2673\tValid loss: 0.8135\tTrain accuracy: 79.49\tValid accuracy: 78.82\n",
            "00:53:57 --- Epoch: 4\tTrain loss: 1.0613\tValid loss: 0.6770\tTrain accuracy: 83.59\tValid accuracy: 81.75\n",
            "00:54:59 --- Epoch: 5\tTrain loss: 0.9165\tValid loss: 0.6190\tTrain accuracy: 84.87\tValid accuracy: 83.06\n",
            "00:56:00 --- Epoch: 6\tTrain loss: 0.8082\tValid loss: 0.5668\tTrain accuracy: 87.07\tValid accuracy: 85.19\n",
            "00:57:02 --- Epoch: 7\tTrain loss: 0.7176\tValid loss: 0.4887\tTrain accuracy: 88.45\tValid accuracy: 86.49\n",
            "00:58:03 --- Epoch: 8\tTrain loss: 0.6442\tValid loss: 0.5906\tTrain accuracy: 86.95\tValid accuracy: 84.46\n",
            "00:59:05 --- Epoch: 9\tTrain loss: 0.5917\tValid loss: 0.4535\tTrain accuracy: 90.86\tValid accuracy: 87.02\n",
            "01:00:06 --- Epoch: 10\tTrain loss: 0.5372\tValid loss: 0.4468\tTrain accuracy: 90.68\tValid accuracy: 87.16\n",
            "01:01:08 --- Epoch: 11\tTrain loss: 0.4962\tValid loss: 0.4656\tTrain accuracy: 90.73\tValid accuracy: 87.18\n",
            "01:02:09 --- Epoch: 12\tTrain loss: 0.4619\tValid loss: 0.4526\tTrain accuracy: 91.63\tValid accuracy: 87.43\n",
            "01:03:11 --- Epoch: 13\tTrain loss: 0.4398\tValid loss: 0.4036\tTrain accuracy: 92.81\tValid accuracy: 88.86\n",
            "01:04:13 --- Epoch: 14\tTrain loss: 0.4084\tValid loss: 0.4233\tTrain accuracy: 92.18\tValid accuracy: 88.17\n",
            "01:05:14 --- Epoch: 15\tTrain loss: 0.3862\tValid loss: 0.4185\tTrain accuracy: 92.41\tValid accuracy: 88.71\n",
            "01:06:16 --- Epoch: 16\tTrain loss: 0.3737\tValid loss: 0.3904\tTrain accuracy: 93.27\tValid accuracy: 89.27\n",
            "01:07:17 --- Epoch: 17\tTrain loss: 0.3502\tValid loss: 0.3612\tTrain accuracy: 93.90\tValid accuracy: 89.48\n",
            "01:08:19 --- Epoch: 18\tTrain loss: 0.3401\tValid loss: 0.3641\tTrain accuracy: 94.04\tValid accuracy: 89.20\n",
            "01:09:20 --- Epoch: 19\tTrain loss: 0.3198\tValid loss: 0.3664\tTrain accuracy: 94.18\tValid accuracy: 89.41\n",
            "01:10:21 --- Epoch: 20\tTrain loss: 0.3123\tValid loss: 0.3804\tTrain accuracy: 94.28\tValid accuracy: 89.45\n",
            "01:11:22 --- Epoch: 21\tTrain loss: 0.2900\tValid loss: 0.3677\tTrain accuracy: 94.53\tValid accuracy: 89.95\n",
            "01:12:24 --- Epoch: 22\tTrain loss: 0.2853\tValid loss: 0.3645\tTrain accuracy: 94.65\tValid accuracy: 89.50\n",
            "01:13:25 --- Epoch: 23\tTrain loss: 0.2773\tValid loss: 0.3640\tTrain accuracy: 94.87\tValid accuracy: 89.81\n",
            "01:14:27 --- Epoch: 24\tTrain loss: 0.2670\tValid loss: 0.3386\tTrain accuracy: 95.44\tValid accuracy: 89.93\n",
            "01:15:28 --- Epoch: 25\tTrain loss: 0.2634\tValid loss: 0.3849\tTrain accuracy: 94.36\tValid accuracy: 89.42\n",
            "01:16:29 --- Epoch: 26\tTrain loss: 0.2534\tValid loss: 0.3391\tTrain accuracy: 95.57\tValid accuracy: 90.69\n",
            "01:17:31 --- Epoch: 27\tTrain loss: 0.2564\tValid loss: 0.3389\tTrain accuracy: 95.72\tValid accuracy: 89.87\n",
            "01:18:32 --- Epoch: 28\tTrain loss: 0.2449\tValid loss: 0.3816\tTrain accuracy: 95.02\tValid accuracy: 89.22\n",
            "01:19:34 --- Epoch: 29\tTrain loss: 0.2398\tValid loss: 0.3395\tTrain accuracy: 95.54\tValid accuracy: 90.15\n",
            "01:20:35 --- Epoch: 30\tTrain loss: 0.2372\tValid loss: 0.3364\tTrain accuracy: 95.87\tValid accuracy: 90.41\n",
            "01:21:36 --- Epoch: 31\tTrain loss: 0.2338\tValid loss: 0.3803\tTrain accuracy: 95.32\tValid accuracy: 89.71\n",
            "01:22:37 --- Epoch: 32\tTrain loss: 0.2248\tValid loss: 0.3682\tTrain accuracy: 95.25\tValid accuracy: 89.55\n",
            "01:23:38 --- Epoch: 33\tTrain loss: 0.2246\tValid loss: 0.3379\tTrain accuracy: 95.78\tValid accuracy: 90.42\n",
            "01:24:39 --- Epoch: 34\tTrain loss: 0.2216\tValid loss: 0.3118\tTrain accuracy: 96.57\tValid accuracy: 90.80\n",
            "01:25:40 --- Epoch: 35\tTrain loss: 0.2176\tValid loss: 0.3232\tTrain accuracy: 96.25\tValid accuracy: 90.71\n",
            "01:26:42 --- Epoch: 36\tTrain loss: 0.2162\tValid loss: 0.3830\tTrain accuracy: 95.26\tValid accuracy: 89.39\n",
            "01:27:43 --- Epoch: 37\tTrain loss: 0.2106\tValid loss: 0.3459\tTrain accuracy: 95.69\tValid accuracy: 90.31\n",
            "01:28:44 --- Epoch: 38\tTrain loss: 0.2093\tValid loss: 0.3451\tTrain accuracy: 95.92\tValid accuracy: 90.49\n",
            "01:29:45 --- Epoch: 39\tTrain loss: 0.1993\tValid loss: 0.3065\tTrain accuracy: 96.56\tValid accuracy: 91.21\n"
          ]
        },
        {
          "output_type": "display_data",
          "data": {
            "image/png": "[encoded data removed]",
            "text/plain": [
              "<Figure size 600x400 with 1 Axes>"
            ]
          },
          "metadata": {
            "needs_background": "light"
          }
        },
        {
          "output_type": "stream",
          "name": "stdout",
          "text": [
            "=======> Temperature: 5\n",
            "01:30:47 --- Epoch: 0\tTrain loss: 8.9640\tValid loss: 2.1709\tTrain accuracy: 60.07\tValid accuracy: 60.50\n",
            "01:31:49 --- Epoch: 1\tTrain loss: 4.1180\tValid loss: 0.9981\tTrain accuracy: 76.07\tValid accuracy: 76.92\n",
            "01:32:50 --- Epoch: 2\tTrain loss: 2.7112\tValid loss: 0.8256\tTrain accuracy: 82.13\tValid accuracy: 81.12\n",
            "01:33:51 --- Epoch: 3\tTrain loss: 2.0715\tValid loss: 0.7017\tTrain accuracy: 84.35\tValid accuracy: 83.50\n",
            "01:34:53 --- Epoch: 4\tTrain loss: 1.6732\tValid loss: 0.7444\tTrain accuracy: 85.20\tValid accuracy: 83.20\n",
            "01:35:54 --- Epoch: 5\tTrain loss: 1.3962\tValid loss: 0.6026\tTrain accuracy: 87.70\tValid accuracy: 85.35\n",
            "01:36:55 --- Epoch: 6\tTrain loss: 1.2147\tValid loss: 0.5344\tTrain accuracy: 88.93\tValid accuracy: 86.82\n",
            "01:37:57 --- Epoch: 7\tTrain loss: 1.0858\tValid loss: 0.5480\tTrain accuracy: 88.99\tValid accuracy: 86.37\n",
            "01:38:58 --- Epoch: 8\tTrain loss: 0.9789\tValid loss: 0.5049\tTrain accuracy: 90.67\tValid accuracy: 87.65\n",
            "01:40:00 --- Epoch: 9\tTrain loss: 0.8930\tValid loss: 0.5054\tTrain accuracy: 90.83\tValid accuracy: 87.29\n",
            "01:41:01 --- Epoch: 10\tTrain loss: 0.8323\tValid loss: 0.5941\tTrain accuracy: 89.60\tValid accuracy: 86.22\n",
            "01:42:03 --- Epoch: 11\tTrain loss: 0.7792\tValid loss: 0.4700\tTrain accuracy: 91.59\tValid accuracy: 87.94\n",
            "01:43:05 --- Epoch: 12\tTrain loss: 0.7210\tValid loss: 0.4210\tTrain accuracy: 92.80\tValid accuracy: 88.92\n",
            "01:44:07 --- Epoch: 13\tTrain loss: 0.6856\tValid loss: 0.4072\tTrain accuracy: 93.79\tValid accuracy: 89.40\n",
            "01:45:08 --- Epoch: 14\tTrain loss: 0.6557\tValid loss: 0.4193\tTrain accuracy: 93.56\tValid accuracy: 89.00\n",
            "01:46:10 --- Epoch: 15\tTrain loss: 0.6339\tValid loss: 0.4205\tTrain accuracy: 93.70\tValid accuracy: 89.24\n",
            "01:47:11 --- Epoch: 16\tTrain loss: 0.6097\tValid loss: 0.4080\tTrain accuracy: 93.99\tValid accuracy: 89.68\n",
            "01:48:13 --- Epoch: 17\tTrain loss: 0.5804\tValid loss: 0.3971\tTrain accuracy: 94.15\tValid accuracy: 89.66\n",
            "01:49:15 --- Epoch: 18\tTrain loss: 0.5567\tValid loss: 0.3844\tTrain accuracy: 94.71\tValid accuracy: 89.84\n",
            "01:50:16 --- Epoch: 19\tTrain loss: 0.5446\tValid loss: 0.4153\tTrain accuracy: 94.13\tValid accuracy: 89.24\n",
            "01:51:18 --- Epoch: 20\tTrain loss: 0.5276\tValid loss: 0.3981\tTrain accuracy: 94.65\tValid accuracy: 89.65\n",
            "01:52:20 --- Epoch: 21\tTrain loss: 0.5150\tValid loss: 0.3954\tTrain accuracy: 94.52\tValid accuracy: 89.61\n",
            "01:53:21 --- Epoch: 22\tTrain loss: 0.5047\tValid loss: 0.3732\tTrain accuracy: 95.41\tValid accuracy: 90.55\n",
            "01:54:23 --- Epoch: 23\tTrain loss: 0.4887\tValid loss: 0.3799\tTrain accuracy: 95.20\tValid accuracy: 90.03\n",
            "01:55:24 --- Epoch: 24\tTrain loss: 0.4843\tValid loss: 0.4054\tTrain accuracy: 94.37\tValid accuracy: 89.21\n",
            "01:56:26 --- Epoch: 25\tTrain loss: 0.4742\tValid loss: 0.3978\tTrain accuracy: 95.20\tValid accuracy: 89.71\n",
            "01:57:28 --- Epoch: 26\tTrain loss: 0.4659\tValid loss: 0.3923\tTrain accuracy: 95.24\tValid accuracy: 89.71\n",
            "01:58:29 --- Epoch: 27\tTrain loss: 0.4599\tValid loss: 0.3735\tTrain accuracy: 95.64\tValid accuracy: 90.08\n",
            "01:59:31 --- Epoch: 28\tTrain loss: 0.4431\tValid loss: 0.3683\tTrain accuracy: 95.59\tValid accuracy: 89.98\n",
            "02:00:32 --- Epoch: 29\tTrain loss: 0.4441\tValid loss: 0.3826\tTrain accuracy: 95.36\tValid accuracy: 89.99\n",
            "02:01:35 --- Epoch: 30\tTrain loss: 0.4369\tValid loss: 0.3672\tTrain accuracy: 95.59\tValid accuracy: 90.15\n",
            "02:02:36 --- Epoch: 31\tTrain loss: 0.4205\tValid loss: 0.3736\tTrain accuracy: 95.83\tValid accuracy: 90.06\n",
            "02:03:38 --- Epoch: 32\tTrain loss: 0.4187\tValid loss: 0.3761\tTrain accuracy: 95.74\tValid accuracy: 90.18\n",
            "02:04:40 --- Epoch: 33\tTrain loss: 0.4117\tValid loss: 0.3766\tTrain accuracy: 95.95\tValid accuracy: 90.23\n",
            "02:05:41 --- Epoch: 34\tTrain loss: 0.4071\tValid loss: 0.3858\tTrain accuracy: 95.51\tValid accuracy: 89.88\n",
            "02:06:43 --- Epoch: 35\tTrain loss: 0.4077\tValid loss: 0.3618\tTrain accuracy: 95.84\tValid accuracy: 90.25\n",
            "02:07:45 --- Epoch: 36\tTrain loss: 0.4017\tValid loss: 0.3698\tTrain accuracy: 95.87\tValid accuracy: 90.10\n",
            "02:08:47 --- Epoch: 37\tTrain loss: 0.3947\tValid loss: 0.3652\tTrain accuracy: 96.16\tValid accuracy: 90.13\n",
            "02:09:48 --- Epoch: 38\tTrain loss: 0.3926\tValid loss: 0.4064\tTrain accuracy: 95.33\tValid accuracy: 89.63\n",
            "02:10:49 --- Epoch: 39\tTrain loss: 0.3908\tValid loss: 0.3635\tTrain accuracy: 96.00\tValid accuracy: 89.99\n"
          ]
        },
        {
          "output_type": "display_data",
          "data": {
            "image/png": "[encoded data removed]",
            "text/plain": [
              "<Figure size 600x400 with 1 Axes>"
            ]
          },
          "metadata": {
            "needs_background": "light"
          }
        }
      ]
    },
    {
      "cell_type": "markdown",
      "metadata": {
        "id": "cpuBgyfWsJLU"
      },
      "source": [
        "# Net Architecture"
      ]
    },
    {
      "cell_type": "code",
      "metadata": {
        "colab": {
          "base_uri": "https://localhost:8080/"
        },
        "id": "QnQ3MfXfY-kL",
        "outputId": "d6eb4ae9-512c-490e-8dbb-e8e54ab36449"
      },
      "source": [
        "!pip install pthflops\n",
        "!pip install torchsummary"
      ],
      "execution_count": null,
      "outputs": [
        {
          "output_type": "stream",
          "name": "stdout",
          "text": [
            "Collecting pthflops\n",
            "  Downloading pthflops-0.4.1.tar.gz (10 kB)\n",
            "Requirement already satisfied: torch in /usr/local/lib/python3.7/dist-packages (from pthflops) (1.10.0+cu111)\n",
            "Requirement already satisfied: typing-extensions in /usr/local/lib/python3.7/dist-packages (from torch->pthflops) (3.10.0.2)\n",
            "Building wheels for collected packages: pthflops\n",
            "  Building wheel for pthflops (setup.py) ... \u001b[?25l\u001b[?25hdone\n",
            "  Created wheel for pthflops: filename=pthflops-0.4.1-py3-none-any.whl size=10063 sha256=a4f54510a2c458d5193b38b51107c726646f6b5dc4f3eac0aef3d6966bfcb1bc\n",
            "  Stored in directory: /root/.cache/pip/wheels/9c/41/05/475bdaebaaf3a44f25367a8dc0ac9d4b8edbb7f5fa19724c70\n",
            "Successfully built pthflops\n",
            "Installing collected packages: pthflops\n",
            "Successfully installed pthflops-0.4.1\n",
            "Requirement already satisfied: torchsummary in /usr/local/lib/python3.7/dist-packages (1.5.1)\n"
          ]
        }
      ]
    },
    {
      "cell_type": "code",
      "metadata": {
        "colab": {
          "base_uri": "https://localhost:8080/"
        },
        "id": "iMh7r9EAZAh7",
        "outputId": "db986f0b-2283-4600-cadd-de36a328bda0"
      },
      "source": [
        "from pthflops import count_ops\n",
        "from torchsummary import summary\n",
        "\n",
        "model_teacher = ResNet18()\n",
        " \n",
        "summary(model_teacher, (3, 32, 32))\n",
        "count_ops(model_teacher, torch.rand(1,3,32,32).to(DEVICE))"
      ],
      "execution_count": null,
      "outputs": [
        {
          "output_type": "stream",
          "name": "stdout",
          "text": [
            "----------------------------------------------------------------\n",
            "        Layer (type)               Output Shape         Param #\n",
            "================================================================\n",
            "            Conv2d-1           [-1, 64, 32, 32]           1,728\n",
            "       BatchNorm2d-2           [-1, 64, 32, 32]             128\n",
            "            Conv2d-3           [-1, 64, 32, 32]          36,864\n",
            "       BatchNorm2d-4           [-1, 64, 32, 32]             128\n",
            "            Conv2d-5           [-1, 64, 32, 32]          36,864\n",
            "       BatchNorm2d-6           [-1, 64, 32, 32]             128\n",
            "        BasicBlock-7           [-1, 64, 32, 32]               0\n",
            "            Conv2d-8           [-1, 64, 32, 32]          36,864\n",
            "       BatchNorm2d-9           [-1, 64, 32, 32]             128\n",
            "           Conv2d-10           [-1, 64, 32, 32]          36,864\n",
            "      BatchNorm2d-11           [-1, 64, 32, 32]             128\n",
            "       BasicBlock-12           [-1, 64, 32, 32]               0\n",
            "           Conv2d-13          [-1, 128, 16, 16]          73,728\n",
            "      BatchNorm2d-14          [-1, 128, 16, 16]             256\n",
            "           Conv2d-15          [-1, 128, 16, 16]         147,456\n",
            "      BatchNorm2d-16          [-1, 128, 16, 16]             256\n",
            "           Conv2d-17          [-1, 128, 16, 16]           8,192\n",
            "      BatchNorm2d-18          [-1, 128, 16, 16]             256\n",
            "       BasicBlock-19          [-1, 128, 16, 16]               0\n",
            "           Conv2d-20          [-1, 128, 16, 16]         147,456\n",
            "      BatchNorm2d-21          [-1, 128, 16, 16]             256\n",
            "           Conv2d-22          [-1, 128, 16, 16]         147,456\n",
            "      BatchNorm2d-23          [-1, 128, 16, 16]             256\n",
            "       BasicBlock-24          [-1, 128, 16, 16]               0\n",
            "           Conv2d-25            [-1, 256, 8, 8]         294,912\n",
            "      BatchNorm2d-26            [-1, 256, 8, 8]             512\n",
            "           Conv2d-27            [-1, 256, 8, 8]         589,824\n",
            "      BatchNorm2d-28            [-1, 256, 8, 8]             512\n",
            "           Conv2d-29            [-1, 256, 8, 8]          32,768\n",
            "      BatchNorm2d-30            [-1, 256, 8, 8]             512\n",
            "       BasicBlock-31            [-1, 256, 8, 8]               0\n",
            "           Conv2d-32            [-1, 256, 8, 8]         589,824\n",
            "      BatchNorm2d-33            [-1, 256, 8, 8]             512\n",
            "           Conv2d-34            [-1, 256, 8, 8]         589,824\n",
            "      BatchNorm2d-35            [-1, 256, 8, 8]             512\n",
            "       BasicBlock-36            [-1, 256, 8, 8]               0\n",
            "           Conv2d-37            [-1, 512, 4, 4]       1,179,648\n",
            "      BatchNorm2d-38            [-1, 512, 4, 4]           1,024\n",
            "           Conv2d-39            [-1, 512, 4, 4]       2,359,296\n",
            "      BatchNorm2d-40            [-1, 512, 4, 4]           1,024\n",
            "           Conv2d-41            [-1, 512, 4, 4]         131,072\n",
            "      BatchNorm2d-42            [-1, 512, 4, 4]           1,024\n",
            "       BasicBlock-43            [-1, 512, 4, 4]               0\n",
            "           Conv2d-44            [-1, 512, 4, 4]       2,359,296\n",
            "      BatchNorm2d-45            [-1, 512, 4, 4]           1,024\n",
            "           Conv2d-46            [-1, 512, 4, 4]       2,359,296\n",
            "      BatchNorm2d-47            [-1, 512, 4, 4]           1,024\n",
            "       BasicBlock-48            [-1, 512, 4, 4]               0\n",
            "           Linear-49                   [-1, 10]           5,130\n",
            "================================================================\n",
            "Total params: 11,173,962\n",
            "Trainable params: 11,173,962\n",
            "Non-trainable params: 0\n",
            "----------------------------------------------------------------\n",
            "Input size (MB): 0.01\n",
            "Forward/backward pass size (MB): 11.25\n",
            "Params size (MB): 42.63\n",
            "Estimated Total Size (MB): 53.89\n",
            "----------------------------------------------------------------\n",
            "Operation             OPS        \n",
            "--------------------  ---------  \n",
            "conv1                 1769472    \n",
            "bn1                   131072     \n",
            "layer1_0_conv1        37748736   \n",
            "layer1_0_bn1          131072     \n",
            "layer1_0_conv2        37748736   \n",
            "layer1_0_bn2          131072     \n",
            "add                   131072     \n",
            "layer1_1_conv1        37748736   \n",
            "layer1_1_bn1          131072     \n",
            "layer1_1_conv2        37748736   \n",
            "layer1_1_bn2          131072     \n",
            "add_1                 131072     \n",
            "layer2_0_conv1        18874368   \n",
            "layer2_0_bn1          65536      \n",
            "layer2_0_conv2        37748736   \n",
            "layer2_0_bn2          65536      \n",
            "layer2_0_shortcut_0   2097152    \n",
            "layer2_0_shortcut_1   65536      \n",
            "add_2                 65536      \n",
            "layer2_1_conv1        37748736   \n",
            "layer2_1_bn1          65536      \n",
            "layer2_1_conv2        37748736   \n",
            "layer2_1_bn2          65536      \n",
            "add_3                 65536      \n",
            "layer3_0_conv1        18874368   \n",
            "layer3_0_bn1          32768      \n",
            "layer3_0_conv2        37748736   \n",
            "layer3_0_bn2          32768      \n",
            "layer3_0_shortcut_0   2097152    \n",
            "layer3_0_shortcut_1   32768      \n",
            "add_4                 32768      \n",
            "layer3_1_conv1        37748736   \n",
            "layer3_1_bn1          32768      \n",
            "layer3_1_conv2        37748736   \n",
            "layer3_1_bn2          32768      \n",
            "add_5                 32768      \n",
            "layer4_0_conv1        18874368   \n",
            "layer4_0_bn1          16384      \n",
            "layer4_0_conv2        37748736   \n",
            "layer4_0_bn2          16384      \n",
            "layer4_0_shortcut_0   2097152    \n",
            "layer4_0_shortcut_1   16384      \n",
            "add_6                 16384      \n",
            "layer4_1_conv1        37748736   \n",
            "layer4_1_bn1          16384      \n",
            "layer4_1_conv2        37748736   \n",
            "layer4_1_bn2          16384      \n",
            "add_7                 16384      \n",
            "linear                5130       \n",
            "-------------------   --------   \n",
            "Input size: (1, 3, 32, 32)\n",
            "557,143,050 FLOPs or approx. 0.56 GFLOPs\n"
          ]
        },
        {
          "output_type": "execute_result",
          "data": {
            "text/plain": [
              "(557143050,\n",
              " [['conv1', 1769472],\n",
              "  ['bn1', 131072],\n",
              "  ['layer1_0_conv1', 37748736],\n",
              "  ['layer1_0_bn1', 131072],\n",
              "  ['layer1_0_conv2', 37748736],\n",
              "  ['layer1_0_bn2', 131072],\n",
              "  ['add', 131072],\n",
              "  ['layer1_1_conv1', 37748736],\n",
              "  ['layer1_1_bn1', 131072],\n",
              "  ['layer1_1_conv2', 37748736],\n",
              "  ['layer1_1_bn2', 131072],\n",
              "  ['add_1', 131072],\n",
              "  ['layer2_0_conv1', 18874368],\n",
              "  ['layer2_0_bn1', 65536],\n",
              "  ['layer2_0_conv2', 37748736],\n",
              "  ['layer2_0_bn2', 65536],\n",
              "  ['layer2_0_shortcut_0', 2097152],\n",
              "  ['layer2_0_shortcut_1', 65536],\n",
              "  ['add_2', 65536],\n",
              "  ['layer2_1_conv1', 37748736],\n",
              "  ['layer2_1_bn1', 65536],\n",
              "  ['layer2_1_conv2', 37748736],\n",
              "  ['layer2_1_bn2', 65536],\n",
              "  ['add_3', 65536],\n",
              "  ['layer3_0_conv1', 18874368],\n",
              "  ['layer3_0_bn1', 32768],\n",
              "  ['layer3_0_conv2', 37748736],\n",
              "  ['layer3_0_bn2', 32768],\n",
              "  ['layer3_0_shortcut_0', 2097152],\n",
              "  ['layer3_0_shortcut_1', 32768],\n",
              "  ['add_4', 32768],\n",
              "  ['layer3_1_conv1', 37748736],\n",
              "  ['layer3_1_bn1', 32768],\n",
              "  ['layer3_1_conv2', 37748736],\n",
              "  ['layer3_1_bn2', 32768],\n",
              "  ['add_5', 32768],\n",
              "  ['layer4_0_conv1', 18874368],\n",
              "  ['layer4_0_bn1', 16384],\n",
              "  ['layer4_0_conv2', 37748736],\n",
              "  ['layer4_0_bn2', 16384],\n",
              "  ['layer4_0_shortcut_0', 2097152],\n",
              "  ['layer4_0_shortcut_1', 16384],\n",
              "  ['add_6', 16384],\n",
              "  ['layer4_1_conv1', 37748736],\n",
              "  ['layer4_1_bn1', 16384],\n",
              "  ['layer4_1_conv2', 37748736],\n",
              "  ['layer4_1_bn2', 16384],\n",
              "  ['add_7', 16384],\n",
              "  ['linear', 5130]])"
            ]
          },
          "metadata": {},
          "execution_count": 7
        }
      ]
    },
    {
      "cell_type": "code",
      "metadata": {
        "colab": {
          "base_uri": "https://localhost:8080/",
          "height": 362
        },
        "id": "sbtXaEvfotTO",
        "outputId": "e0870198-c99d-432c-8abb-6643b4bc49c9"
      },
      "source": [
        "model_student = VGG13()\n",
        "\n",
        "summary(model_student, (3, 256, 256))\n",
        "count_ops(model_student, torch.rand(1,3,256,256).to(DEVICE))"
      ],
      "execution_count": null,
      "outputs": [
        {
          "output_type": "error",
          "ename": "RuntimeError",
          "evalue": "ignored",
          "traceback": [
            "\u001b[0;31m---------------------------------------------------------------------------\u001b[0m",
            "\u001b[0;31mRuntimeError\u001b[0m                              Traceback (most recent call last)",
            "\u001b[0;32m<ipython-input-9-788b26069c18>\u001b[0m in \u001b[0;36m<module>\u001b[0;34m()\u001b[0m\n\u001b[1;32m      1\u001b[0m \u001b[0mmodel_student\u001b[0m \u001b[0;34m=\u001b[0m \u001b[0mVGG13\u001b[0m\u001b[0;34m(\u001b[0m\u001b[0;34m)\u001b[0m\u001b[0;34m\u001b[0m\u001b[0;34m\u001b[0m\u001b[0m\n\u001b[1;32m      2\u001b[0m \u001b[0;34m\u001b[0m\u001b[0m\n\u001b[0;32m----> 3\u001b[0;31m \u001b[0msummary\u001b[0m\u001b[0;34m(\u001b[0m\u001b[0mmodel_student\u001b[0m\u001b[0;34m,\u001b[0m \u001b[0;34m(\u001b[0m\u001b[0;36m3\u001b[0m\u001b[0;34m,\u001b[0m \u001b[0;36m256\u001b[0m\u001b[0;34m,\u001b[0m \u001b[0;36m256\u001b[0m\u001b[0;34m)\u001b[0m\u001b[0;34m)\u001b[0m\u001b[0;34m\u001b[0m\u001b[0;34m\u001b[0m\u001b[0m\n\u001b[0m\u001b[1;32m      4\u001b[0m \u001b[0mcount_ops\u001b[0m\u001b[0;34m(\u001b[0m\u001b[0mmodel_student\u001b[0m\u001b[0;34m,\u001b[0m \u001b[0mtorch\u001b[0m\u001b[0;34m.\u001b[0m\u001b[0mrand\u001b[0m\u001b[0;34m(\u001b[0m\u001b[0;36m1\u001b[0m\u001b[0;34m,\u001b[0m\u001b[0;36m3\u001b[0m\u001b[0;34m,\u001b[0m\u001b[0;36m256\u001b[0m\u001b[0;34m,\u001b[0m\u001b[0;36m256\u001b[0m\u001b[0;34m)\u001b[0m\u001b[0;34m.\u001b[0m\u001b[0mto\u001b[0m\u001b[0;34m(\u001b[0m\u001b[0mDEVICE\u001b[0m\u001b[0;34m)\u001b[0m\u001b[0;34m)\u001b[0m\u001b[0;34m\u001b[0m\u001b[0;34m\u001b[0m\u001b[0m\n",
            "\u001b[0;32m/usr/local/lib/python3.7/dist-packages/torchsummary/torchsummary.py\u001b[0m in \u001b[0;36msummary\u001b[0;34m(model, input_size, batch_size, device)\u001b[0m\n\u001b[1;32m     70\u001b[0m     \u001b[0;31m# make a forward pass\u001b[0m\u001b[0;34m\u001b[0m\u001b[0;34m\u001b[0m\u001b[0;34m\u001b[0m\u001b[0m\n\u001b[1;32m     71\u001b[0m     \u001b[0;31m# print(x.shape)\u001b[0m\u001b[0;34m\u001b[0m\u001b[0;34m\u001b[0m\u001b[0;34m\u001b[0m\u001b[0m\n\u001b[0;32m---> 72\u001b[0;31m     \u001b[0mmodel\u001b[0m\u001b[0;34m(\u001b[0m\u001b[0;34m*\u001b[0m\u001b[0mx\u001b[0m\u001b[0;34m)\u001b[0m\u001b[0;34m\u001b[0m\u001b[0;34m\u001b[0m\u001b[0m\n\u001b[0m\u001b[1;32m     73\u001b[0m \u001b[0;34m\u001b[0m\u001b[0m\n\u001b[1;32m     74\u001b[0m     \u001b[0;31m# remove these hooks\u001b[0m\u001b[0;34m\u001b[0m\u001b[0;34m\u001b[0m\u001b[0;34m\u001b[0m\u001b[0m\n",
            "\u001b[0;32m/usr/local/lib/python3.7/dist-packages/torch/nn/modules/module.py\u001b[0m in \u001b[0;36m_call_impl\u001b[0;34m(self, *input, **kwargs)\u001b[0m\n\u001b[1;32m   1100\u001b[0m         if not (self._backward_hooks or self._forward_hooks or self._forward_pre_hooks or _global_backward_hooks\n\u001b[1;32m   1101\u001b[0m                 or _global_forward_hooks or _global_forward_pre_hooks):\n\u001b[0;32m-> 1102\u001b[0;31m             \u001b[0;32mreturn\u001b[0m \u001b[0mforward_call\u001b[0m\u001b[0;34m(\u001b[0m\u001b[0;34m*\u001b[0m\u001b[0minput\u001b[0m\u001b[0;34m,\u001b[0m \u001b[0;34m**\u001b[0m\u001b[0mkwargs\u001b[0m\u001b[0;34m)\u001b[0m\u001b[0;34m\u001b[0m\u001b[0;34m\u001b[0m\u001b[0m\n\u001b[0m\u001b[1;32m   1103\u001b[0m         \u001b[0;31m# Do not call functions when jit is used\u001b[0m\u001b[0;34m\u001b[0m\u001b[0;34m\u001b[0m\u001b[0;34m\u001b[0m\u001b[0m\n\u001b[1;32m   1104\u001b[0m         \u001b[0mfull_backward_hooks\u001b[0m\u001b[0;34m,\u001b[0m \u001b[0mnon_full_backward_hooks\u001b[0m \u001b[0;34m=\u001b[0m \u001b[0;34m[\u001b[0m\u001b[0;34m]\u001b[0m\u001b[0;34m,\u001b[0m \u001b[0;34m[\u001b[0m\u001b[0;34m]\u001b[0m\u001b[0;34m\u001b[0m\u001b[0;34m\u001b[0m\u001b[0m\n",
            "\u001b[0;32m<ipython-input-4-bffbc6053938>\u001b[0m in \u001b[0;36mforward\u001b[0;34m(self, x)\u001b[0m\n\u001b[1;32m    111\u001b[0m         \u001b[0mout\u001b[0m \u001b[0;34m=\u001b[0m \u001b[0mself\u001b[0m\u001b[0;34m.\u001b[0m\u001b[0mfeatures\u001b[0m\u001b[0;34m(\u001b[0m\u001b[0mx\u001b[0m\u001b[0;34m)\u001b[0m\u001b[0;34m\u001b[0m\u001b[0;34m\u001b[0m\u001b[0m\n\u001b[1;32m    112\u001b[0m         \u001b[0mout\u001b[0m \u001b[0;34m=\u001b[0m \u001b[0mout\u001b[0m\u001b[0;34m.\u001b[0m\u001b[0mview\u001b[0m\u001b[0;34m(\u001b[0m\u001b[0mout\u001b[0m\u001b[0;34m.\u001b[0m\u001b[0msize\u001b[0m\u001b[0;34m(\u001b[0m\u001b[0;36m0\u001b[0m\u001b[0;34m)\u001b[0m\u001b[0;34m,\u001b[0m \u001b[0;34m-\u001b[0m\u001b[0;36m1\u001b[0m\u001b[0;34m)\u001b[0m\u001b[0;34m\u001b[0m\u001b[0;34m\u001b[0m\u001b[0m\n\u001b[0;32m--> 113\u001b[0;31m         \u001b[0mout\u001b[0m \u001b[0;34m=\u001b[0m \u001b[0mself\u001b[0m\u001b[0;34m.\u001b[0m\u001b[0mclassifier\u001b[0m\u001b[0;34m(\u001b[0m\u001b[0mout\u001b[0m\u001b[0;34m)\u001b[0m\u001b[0;34m\u001b[0m\u001b[0;34m\u001b[0m\u001b[0m\n\u001b[0m\u001b[1;32m    114\u001b[0m         \u001b[0;32mreturn\u001b[0m \u001b[0mout\u001b[0m\u001b[0;34m\u001b[0m\u001b[0;34m\u001b[0m\u001b[0m\n\u001b[1;32m    115\u001b[0m \u001b[0;34m\u001b[0m\u001b[0m\n",
            "\u001b[0;32m/usr/local/lib/python3.7/dist-packages/torch/nn/modules/module.py\u001b[0m in \u001b[0;36m_call_impl\u001b[0;34m(self, *input, **kwargs)\u001b[0m\n\u001b[1;32m   1118\u001b[0m             \u001b[0minput\u001b[0m \u001b[0;34m=\u001b[0m \u001b[0mbw_hook\u001b[0m\u001b[0;34m.\u001b[0m\u001b[0msetup_input_hook\u001b[0m\u001b[0;34m(\u001b[0m\u001b[0minput\u001b[0m\u001b[0;34m)\u001b[0m\u001b[0;34m\u001b[0m\u001b[0;34m\u001b[0m\u001b[0m\n\u001b[1;32m   1119\u001b[0m \u001b[0;34m\u001b[0m\u001b[0m\n\u001b[0;32m-> 1120\u001b[0;31m         \u001b[0mresult\u001b[0m \u001b[0;34m=\u001b[0m \u001b[0mforward_call\u001b[0m\u001b[0;34m(\u001b[0m\u001b[0;34m*\u001b[0m\u001b[0minput\u001b[0m\u001b[0;34m,\u001b[0m \u001b[0;34m**\u001b[0m\u001b[0mkwargs\u001b[0m\u001b[0;34m)\u001b[0m\u001b[0;34m\u001b[0m\u001b[0;34m\u001b[0m\u001b[0m\n\u001b[0m\u001b[1;32m   1121\u001b[0m         \u001b[0;32mif\u001b[0m \u001b[0m_global_forward_hooks\u001b[0m \u001b[0;32mor\u001b[0m \u001b[0mself\u001b[0m\u001b[0;34m.\u001b[0m\u001b[0m_forward_hooks\u001b[0m\u001b[0;34m:\u001b[0m\u001b[0;34m\u001b[0m\u001b[0;34m\u001b[0m\u001b[0m\n\u001b[1;32m   1122\u001b[0m             \u001b[0;32mfor\u001b[0m \u001b[0mhook\u001b[0m \u001b[0;32min\u001b[0m \u001b[0;34m(\u001b[0m\u001b[0;34m*\u001b[0m\u001b[0m_global_forward_hooks\u001b[0m\u001b[0;34m.\u001b[0m\u001b[0mvalues\u001b[0m\u001b[0;34m(\u001b[0m\u001b[0;34m)\u001b[0m\u001b[0;34m,\u001b[0m \u001b[0;34m*\u001b[0m\u001b[0mself\u001b[0m\u001b[0;34m.\u001b[0m\u001b[0m_forward_hooks\u001b[0m\u001b[0;34m.\u001b[0m\u001b[0mvalues\u001b[0m\u001b[0;34m(\u001b[0m\u001b[0;34m)\u001b[0m\u001b[0;34m)\u001b[0m\u001b[0;34m:\u001b[0m\u001b[0;34m\u001b[0m\u001b[0;34m\u001b[0m\u001b[0m\n",
            "\u001b[0;32m/usr/local/lib/python3.7/dist-packages/torch/nn/modules/linear.py\u001b[0m in \u001b[0;36mforward\u001b[0;34m(self, input)\u001b[0m\n\u001b[1;32m    101\u001b[0m \u001b[0;34m\u001b[0m\u001b[0m\n\u001b[1;32m    102\u001b[0m     \u001b[0;32mdef\u001b[0m \u001b[0mforward\u001b[0m\u001b[0;34m(\u001b[0m\u001b[0mself\u001b[0m\u001b[0;34m,\u001b[0m \u001b[0minput\u001b[0m\u001b[0;34m:\u001b[0m \u001b[0mTensor\u001b[0m\u001b[0;34m)\u001b[0m \u001b[0;34m->\u001b[0m \u001b[0mTensor\u001b[0m\u001b[0;34m:\u001b[0m\u001b[0;34m\u001b[0m\u001b[0;34m\u001b[0m\u001b[0m\n\u001b[0;32m--> 103\u001b[0;31m         \u001b[0;32mreturn\u001b[0m \u001b[0mF\u001b[0m\u001b[0;34m.\u001b[0m\u001b[0mlinear\u001b[0m\u001b[0;34m(\u001b[0m\u001b[0minput\u001b[0m\u001b[0;34m,\u001b[0m \u001b[0mself\u001b[0m\u001b[0;34m.\u001b[0m\u001b[0mweight\u001b[0m\u001b[0;34m,\u001b[0m \u001b[0mself\u001b[0m\u001b[0;34m.\u001b[0m\u001b[0mbias\u001b[0m\u001b[0;34m)\u001b[0m\u001b[0;34m\u001b[0m\u001b[0;34m\u001b[0m\u001b[0m\n\u001b[0m\u001b[1;32m    104\u001b[0m \u001b[0;34m\u001b[0m\u001b[0m\n\u001b[1;32m    105\u001b[0m     \u001b[0;32mdef\u001b[0m \u001b[0mextra_repr\u001b[0m\u001b[0;34m(\u001b[0m\u001b[0mself\u001b[0m\u001b[0;34m)\u001b[0m \u001b[0;34m->\u001b[0m \u001b[0mstr\u001b[0m\u001b[0;34m:\u001b[0m\u001b[0;34m\u001b[0m\u001b[0;34m\u001b[0m\u001b[0m\n",
            "\u001b[0;32m/usr/local/lib/python3.7/dist-packages/torch/nn/functional.py\u001b[0m in \u001b[0;36mlinear\u001b[0;34m(input, weight, bias)\u001b[0m\n\u001b[1;32m   1846\u001b[0m     \u001b[0;32mif\u001b[0m \u001b[0mhas_torch_function_variadic\u001b[0m\u001b[0;34m(\u001b[0m\u001b[0minput\u001b[0m\u001b[0;34m,\u001b[0m \u001b[0mweight\u001b[0m\u001b[0;34m,\u001b[0m \u001b[0mbias\u001b[0m\u001b[0;34m)\u001b[0m\u001b[0;34m:\u001b[0m\u001b[0;34m\u001b[0m\u001b[0;34m\u001b[0m\u001b[0m\n\u001b[1;32m   1847\u001b[0m         \u001b[0;32mreturn\u001b[0m \u001b[0mhandle_torch_function\u001b[0m\u001b[0;34m(\u001b[0m\u001b[0mlinear\u001b[0m\u001b[0;34m,\u001b[0m \u001b[0;34m(\u001b[0m\u001b[0minput\u001b[0m\u001b[0;34m,\u001b[0m \u001b[0mweight\u001b[0m\u001b[0;34m,\u001b[0m \u001b[0mbias\u001b[0m\u001b[0;34m)\u001b[0m\u001b[0;34m,\u001b[0m \u001b[0minput\u001b[0m\u001b[0;34m,\u001b[0m \u001b[0mweight\u001b[0m\u001b[0;34m,\u001b[0m \u001b[0mbias\u001b[0m\u001b[0;34m=\u001b[0m\u001b[0mbias\u001b[0m\u001b[0;34m)\u001b[0m\u001b[0;34m\u001b[0m\u001b[0;34m\u001b[0m\u001b[0m\n\u001b[0;32m-> 1848\u001b[0;31m     \u001b[0;32mreturn\u001b[0m \u001b[0mtorch\u001b[0m\u001b[0;34m.\u001b[0m\u001b[0m_C\u001b[0m\u001b[0;34m.\u001b[0m\u001b[0m_nn\u001b[0m\u001b[0;34m.\u001b[0m\u001b[0mlinear\u001b[0m\u001b[0;34m(\u001b[0m\u001b[0minput\u001b[0m\u001b[0;34m,\u001b[0m \u001b[0mweight\u001b[0m\u001b[0;34m,\u001b[0m \u001b[0mbias\u001b[0m\u001b[0;34m)\u001b[0m\u001b[0;34m\u001b[0m\u001b[0;34m\u001b[0m\u001b[0m\n\u001b[0m\u001b[1;32m   1849\u001b[0m \u001b[0;34m\u001b[0m\u001b[0m\n\u001b[1;32m   1850\u001b[0m \u001b[0;34m\u001b[0m\u001b[0m\n",
            "\u001b[0;31mRuntimeError\u001b[0m: mat1 and mat2 shapes cannot be multiplied (2x32768 and 512x10)"
          ]
        }
      ]
    }
  ]
}