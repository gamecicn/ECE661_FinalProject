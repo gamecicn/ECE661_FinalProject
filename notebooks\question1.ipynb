{
  "nbformat": 4,
  "nbformat_minor": 0,
  "metadata": {
    "colab": {
      "name": "question1.ipynb",
      "provenance": [],
      "collapsed_sections": [],
      "authorship_tag": "ABX9TyN72lRgajJpQcP9cD1OgWni",
      "include_colab_link": true
    },
    "kernelspec": {
      "name": "python3",
      "display_name": "Python 3"
    },
    "language_info": {
      "name": "python"
    },
    "accelerator": "GPU"
  },
  "cells": [
    {
      "cell_type": "markdown",
      "metadata": {
        "id": "view-in-github",
        "colab_type": "text"
      },
      "source": [
        "<a href=\"https://colab.research.google.com/github/gamecicn/ECE661_FinalProject/blob/main/notebooks%5Cquestion1.ipynb\" target=\"_parent\"><img src=\"https://colab.research.google.com/assets/colab-badge.svg\" alt=\"Open In Colab\"/></a>"
      ]
    },
    {
      "cell_type": "code",
      "metadata": {
        "colab": {
          "base_uri": "https://localhost:8080/"
        },
        "id": "1aP9HYMp18ia",
        "outputId": "66236bd9-b78d-44fe-93db-b10b9537a411"
      },
      "source": [
        "!pip install pthflops\n",
        "!pip install torchsummary"
      ],
      "execution_count": 2,
      "outputs": [
        {
          "output_type": "stream",
          "name": "stdout",
          "text": [
            "Collecting pthflops\n",
            "  Downloading pthflops-0.4.1.tar.gz (10 kB)\n",
            "Requirement already satisfied: torch in /usr/local/lib/python3.7/dist-packages (from pthflops) (1.10.0+cu111)\n",
            "Requirement already satisfied: typing-extensions in /usr/local/lib/python3.7/dist-packages (from torch->pthflops) (3.10.0.2)\n",
            "Building wheels for collected packages: pthflops\n",
            "  Building wheel for pthflops (setup.py) ... \u001b[?25l\u001b[?25hdone\n",
            "  Created wheel for pthflops: filename=pthflops-0.4.1-py3-none-any.whl size=10063 sha256=04e311f179a168a22232007654006a9381adc5abdd83043796469fdc81f7cf25\n",
            "  Stored in directory: /root/.cache/pip/wheels/9c/41/05/475bdaebaaf3a44f25367a8dc0ac9d4b8edbb7f5fa19724c70\n",
            "Successfully built pthflops\n",
            "Installing collected packages: pthflops\n",
            "Successfully installed pthflops-0.4.1\n",
            "Requirement already satisfied: torchsummary in /usr/local/lib/python3.7/dist-packages (1.5.1)\n"
          ]
        }
      ]
    },
    {
      "cell_type": "code",
      "metadata": {
        "colab": {
          "base_uri": "https://localhost:8080/"
        },
        "id": "-5jzAR-TZOrW",
        "outputId": "74831b58-4657-48e1-c4f4-7e43d285473f"
      },
      "source": [
        "# set working dictionary\n",
        "import os\n",
        "import sys\n",
        "from google.colab import drive\n",
        "\n",
        "drive.mount('/content/drive')\n",
        "\n",
        "\n",
        "os.chdir('/content/drive/MyDrive/ECE661/FinalProject')\n",
        "sys.path.append('/content/drive/MyDrive/ECE661/FinalProject')"
      ],
      "execution_count": 1,
      "outputs": [
        {
          "output_type": "stream",
          "name": "stdout",
          "text": [
            "Drive already mounted at /content/drive; to attempt to forcibly remount, call drive.mount(\"/content/drive\", force_remount=True).\n"
          ]
        }
      ]
    },
    {
      "cell_type": "code",
      "metadata": {
        "colab": {
          "base_uri": "https://localhost:8080/"
        },
        "id": "CsDy5bCIaxOB",
        "outputId": "3f30fa5f-8486-4b02-9c8e-04cbf4c906ac"
      },
      "source": [
        "# import necessary dependencies\n",
        "import argparse\n",
        "import os, sys\n",
        "import time\n",
        "from datetime import datetime \n",
        "from tqdm import tqdm_notebook as tqdm\n",
        "\n",
        "import torch\n",
        "import torch.nn as nn\n",
        "import torch.nn.functional as F\n",
        "\n",
        "import torchvision\n",
        "\n",
        "import matplotlib.pyplot as plt\n",
        "import numpy as np\n",
        "\n",
        "# a few arguments, do NOT change these\n",
        "DATA_ROOT = \"./data\"\n",
        "TRAIN_BATCH_SIZE = 128\n",
        "VAL_BATCH_SIZE = 100\n",
        "\n",
        "# parameters\n",
        "RANDOM_SEED = 42\n",
        "\n",
        "IMG_SIZE = 28\n",
        "N_CLASSES = 10\n",
        "\n",
        "# check device\n",
        "DEVICE = 'cuda' if torch.cuda.is_available() else 'cpu'\n",
        "\n",
        "print(f\"Device: {DEVICE}\")\n",
        "\n",
        "#############################################\n",
        "# your code here\n",
        "# construct dataset\n",
        "train_loader = torch.utils.data.DataLoader(\n",
        "  torchvision.datasets.MNIST('./data/', train=True, download=True,\n",
        "                 transform=torchvision.transforms.Compose([\n",
        "                      torchvision.transforms.ToTensor()\n",
        "                 ])),\n",
        "  batch_size=TRAIN_BATCH_SIZE, shuffle=True)\n",
        "\n",
        "test_loader = torch.utils.data.DataLoader(\n",
        "  torchvision.datasets.MNIST('/data/', train=False, download=True,\n",
        "                 transform=torchvision.transforms.Compose([\n",
        "                      torchvision.transforms.ToTensor()\n",
        "                 ])),\n",
        "  batch_size=VAL_BATCH_SIZE, shuffle=True)"
      ],
      "execution_count": 2,
      "outputs": [
        {
          "output_type": "stream",
          "name": "stdout",
          "text": [
            "Device: cuda\n"
          ]
        }
      ]
    },
    {
      "cell_type": "markdown",
      "metadata": {
        "id": "vATO225dmrf4"
      },
      "source": [
        "## Check Images"
      ]
    },
    {
      "cell_type": "code",
      "metadata": {
        "colab": {
          "base_uri": "https://localhost:8080/",
          "height": 273
        },
        "id": "WZPwQsIalkAO",
        "outputId": "54f0513f-a0b7-4e1d-90ce-8ca8f0b60701"
      },
      "source": [
        "import matplotlib.pyplot as plt\n",
        " \n",
        "_, (example_data, example_targets) = next(enumerate(test_loader))\n",
        "\n",
        "fig = plt.figure()\n",
        "for i in range(3):\n",
        "  plt.subplot(1,3,i+1)\n",
        "  plt.tight_layout()\n",
        "  plt.imshow(example_data[i][0], cmap='gray', interpolation='none')\n",
        "  plt.xticks([])\n",
        "  plt.yticks([])\n",
        "fig"
      ],
      "execution_count": null,
      "outputs": [
        {
          "output_type": "execute_result",
          "data": {
            "image/png": "[encoded data removed]",
            "text/plain": [
              "<Figure size 432x288 with 3 Axes>"
            ]
          },
          "metadata": {},
          "execution_count": 5
        },
        {
          "output_type": "display_data",
          "data": {
            "image/png": "[encoded data removed]",
            "text/plain": [
              "<Figure size 432x288 with 3 Axes>"
            ]
          },
          "metadata": {}
        }
      ]
    },
    {
      "cell_type": "code",
      "metadata": {
        "id": "qx6Sr6wKm5GI"
      },
      "source": [
        "def get_accuracy(model, data_loader, device):\n",
        "    '''\n",
        "    Function for computing the accuracy of the predictions over the entire data_loader\n",
        "    '''\n",
        "    \n",
        "    correct_pred = 0 \n",
        "    n = 0\n",
        "    \n",
        "    with torch.no_grad():\n",
        "        model.eval()\n",
        "        for X, y_true in data_loader:\n",
        "\n",
        "            X = X.to(device)\n",
        "            y_true = y_true.to(device)\n",
        "\n",
        "            _, y_prob = model(X)\n",
        "            _, predicted_labels = torch.max(y_prob, 1)\n",
        "\n",
        "            n += y_true.size(0)\n",
        "            correct_pred += (predicted_labels == y_true).sum()\n",
        "\n",
        "    return correct_pred.float() / n\n",
        "\n",
        "def plot_losses(train_losses, valid_losses):\n",
        "    '''\n",
        "    Function for plotting training and validation losses\n",
        "    '''\n",
        "    \n",
        "    # temporarily change the style of the plots to seaborn \n",
        "    plt.style.use('seaborn')\n",
        "\n",
        "    train_losses = np.array(train_losses) \n",
        "    valid_losses = np.array(valid_losses)\n",
        "\n",
        "    fig, ax = plt.subplots(figsize = (8, 4.5))\n",
        "\n",
        "    ax.plot(train_losses, color='blue', label='Training loss') \n",
        "    ax.plot(valid_losses, color='red', label='Validation loss')\n",
        "    ax.set(title=\"Loss over epochs\", \n",
        "            xlabel='Epoch',\n",
        "            ylabel='Loss') \n",
        "    ax.legend()\n",
        "    fig.show()\n",
        "    \n",
        "    # change the plot style to default\n",
        "    plt.style.use('default')\n",
        "\n",
        "def train(train_loader, model, criterion, optimizer, device):\n",
        "    '''\n",
        "    Function for the training step of the training loop\n",
        "    '''\n",
        "    model.train()\n",
        "    running_loss = 0\n",
        "    \n",
        "    for X, y_true in train_loader:\n",
        "\n",
        "        optimizer.zero_grad()\n",
        "        \n",
        "        X = X.to(device)\n",
        "        y_true = y_true.to(device)\n",
        "    \n",
        "        # Forward pass\n",
        "        y_hat, _ = model(X) \n",
        "        loss = criterion(y_hat, y_true) \n",
        "        running_loss += loss.item() * X.size(0)\n",
        "\n",
        "        # Backward pass\n",
        "        loss.backward()\n",
        "        optimizer.step()\n",
        "        \n",
        "    epoch_loss = running_loss / len(train_loader.dataset)\n",
        "    return model, optimizer, epoch_loss\n",
        "\n",
        "def validate(valid_loader, model, criterion, device):\n",
        "    '''\n",
        "    Function for the validation step of the training loop\n",
        "    '''\n",
        "   \n",
        "    model.eval()\n",
        "    running_loss = 0\n",
        "    \n",
        "    for X, y_true in valid_loader:\n",
        "    \n",
        "        X = X.to(device)\n",
        "        y_true = y_true.to(device)\n",
        "\n",
        "        # Forward pass and record loss\n",
        "        y_hat, _ = model(X) \n",
        "        loss = criterion(y_hat, y_true) \n",
        "        running_loss += loss.item() * X.size(0)\n",
        "\n",
        "    epoch_loss = running_loss / len(valid_loader.dataset)\n",
        "        \n",
        "    return model, epoch_loss\n",
        "\n",
        "\n",
        "def training_loop(model, criterion, optimizer, train_loader, valid_loader, epochs, device, print_every=1):\n",
        "    '''\n",
        "    Function defining the entire training loop\n",
        "    '''\n",
        "    \n",
        "    # set objects for storing metrics\n",
        "    best_loss = 1e10\n",
        "    train_losses = []\n",
        "    valid_losses = []\n",
        " \n",
        "    # Train model\n",
        "    for epoch in range(0, epochs):\n",
        "\n",
        "        # training\n",
        "        model, optimizer, train_loss = train(train_loader, model, criterion, optimizer, device)\n",
        "        train_losses.append(train_loss)\n",
        "\n",
        "        # validation\n",
        "        with torch.no_grad():\n",
        "            model, valid_loss = validate(valid_loader, model, criterion, device)\n",
        "            valid_losses.append(valid_loss)\n",
        "\n",
        "        if epoch % print_every == (print_every - 1):\n",
        "            \n",
        "            train_acc = get_accuracy(model, train_loader, device=device)\n",
        "            valid_acc = get_accuracy(model, valid_loader, device=device)\n",
        "                \n",
        "            print(f'{datetime.now().time().replace(microsecond=0)} --- '\n",
        "                  f'Epoch: {epoch}\\t'\n",
        "                  f'Train loss: {train_loss:.4f}\\t'\n",
        "                  f'Valid loss: {valid_loss:.4f}\\t'\n",
        "                  f'Train accuracy: {100 * train_acc:.2f}\\t'\n",
        "                  f'Valid accuracy: {100 * valid_acc:.2f}')\n",
        "\n",
        "    plot_losses(train_losses, valid_losses)\n",
        "    \n",
        "    return model, optimizer, (train_losses, valid_losses)"
      ],
      "execution_count": 3,
      "outputs": []
    },
    {
      "cell_type": "markdown",
      "metadata": {
        "id": "NwN5Ln9alh45"
      },
      "source": [
        "## LetNet : *Teacher Model*"
      ]
    },
    {
      "cell_type": "code",
      "metadata": {
        "id": "NHg31z9alg-7",
        "colab": {
          "base_uri": "https://localhost:8080/",
          "height": 658
        },
        "outputId": "f1637f23-c8f8-4c32-9a25-63a889b24fcf"
      },
      "source": [
        "\n",
        "class LeNet5(nn.Module):\n",
        "\n",
        "    def __init__(self, n_classes):\n",
        "        super(LeNet5, self).__init__()\n",
        "        \n",
        "        self.model = nn.Sequential(            \n",
        "            nn.Conv2d(1, 6, 5, padding=2),\n",
        "            nn.ReLU(),\n",
        "            nn.AvgPool2d(2, stride=2),\n",
        "            nn.Conv2d(6, 16, 5, padding=0),\n",
        "            nn.ReLU(),\n",
        "            nn.AvgPool2d(2, stride=2),\n",
        "            nn.Flatten(),\n",
        "            nn.Linear(400, 120),\n",
        "            nn.ReLU(),\n",
        "            nn.Linear(120, 84),\n",
        "            nn.ReLU(),\n",
        "            nn.Linear(84, 10)\n",
        "        )\n",
        " \n",
        "\n",
        "    def forward(self, x):\n",
        "        logits = self.model(x)\n",
        "        probs = F.softmax(logits, dim=1)\n",
        "        return logits, probs\n",
        "\n",
        "#================================================================================\n",
        "\n",
        "torch.manual_seed(RANDOM_SEED)\n",
        "\n",
        "LEARNING_RATE = 0.001\n",
        "N_EPOCHS = 12\n",
        "\n",
        "model = LeNet5(N_CLASSES).to(DEVICE)\n",
        "optimizer = torch.optim.Adam(model.parameters(), lr=LEARNING_RATE)\n",
        "criterion = nn.CrossEntropyLoss()\n",
        "\n",
        "model, optimizer, _ = training_loop(model, criterion, optimizer, train_loader, test_loader, N_EPOCHS, DEVICE)    "
      ],
      "execution_count": 14,
      "outputs": [
        {
          "output_type": "stream",
          "name": "stdout",
          "text": [
            "03:02:33 --- Epoch: 0\tTrain loss: 0.4685\tValid loss: 0.1781\tTrain accuracy: 94.21\tValid accuracy: 94.41\n",
            "03:02:53 --- Epoch: 1\tTrain loss: 0.1294\tValid loss: 0.1002\tTrain accuracy: 96.54\tValid accuracy: 96.56\n",
            "03:03:13 --- Epoch: 2\tTrain loss: 0.0889\tValid loss: 0.0667\tTrain accuracy: 97.80\tValid accuracy: 97.75\n",
            "03:03:34 --- Epoch: 3\tTrain loss: 0.0678\tValid loss: 0.0653\tTrain accuracy: 97.94\tValid accuracy: 97.80\n",
            "03:03:54 --- Epoch: 4\tTrain loss: 0.0572\tValid loss: 0.0807\tTrain accuracy: 97.69\tValid accuracy: 97.33\n",
            "03:04:13 --- Epoch: 5\tTrain loss: 0.0500\tValid loss: 0.0413\tTrain accuracy: 98.69\tValid accuracy: 98.74\n",
            "03:04:33 --- Epoch: 6\tTrain loss: 0.0419\tValid loss: 0.0424\tTrain accuracy: 98.99\tValid accuracy: 98.55\n",
            "03:04:53 --- Epoch: 7\tTrain loss: 0.0357\tValid loss: 0.0346\tTrain accuracy: 99.09\tValid accuracy: 98.90\n",
            "03:05:12 --- Epoch: 8\tTrain loss: 0.0331\tValid loss: 0.0416\tTrain accuracy: 99.05\tValid accuracy: 98.74\n",
            "03:05:32 --- Epoch: 9\tTrain loss: 0.0287\tValid loss: 0.0346\tTrain accuracy: 99.31\tValid accuracy: 98.90\n",
            "03:05:52 --- Epoch: 10\tTrain loss: 0.0259\tValid loss: 0.0410\tTrain accuracy: 99.12\tValid accuracy: 98.82\n",
            "03:06:12 --- Epoch: 11\tTrain loss: 0.0236\tValid loss: 0.0354\tTrain accuracy: 99.40\tValid accuracy: 98.87\n"
          ]
        },
        {
          "output_type": "display_data",
          "data": {
            "image/png": "[encoded data removed]",
            "text/plain": [
              "<Figure size 800x450 with 1 Axes>"
            ]
          },
          "metadata": {}
        }
      ]
    },
    {
      "cell_type": "markdown",
      "metadata": {
        "id": "aawQxFI8u17K"
      },
      "source": [
        "## Small Model : *Student Model*"
      ]
    },
    {
      "cell_type": "code",
      "metadata": {
        "colab": {
          "base_uri": "https://localhost:8080/",
          "height": 710
        },
        "id": "Mab5TEGAu1O5",
        "outputId": "23f002f8-1cb1-4242-c7dd-36f8484d2a52"
      },
      "source": [
        "class StudentNet(nn.Module):\n",
        "\n",
        "    def __init__(self, n_classes):\n",
        "        super(StudentNet, self).__init__()\n",
        "        \n",
        "        self.model = nn.Sequential(            \n",
        "            nn.Conv2d(1, 1, 5, padding=1),\n",
        "            nn.ReLU(),\n",
        "            nn.AvgPool2d(2, stride=2),\n",
        "            nn.Conv2d(1, 2, 5, padding=0),\n",
        "            nn.ReLU(),\n",
        "            nn.AvgPool2d(2, stride=2),\n",
        "            nn.Flatten(),\n",
        "            nn.Linear(32, 10),\n",
        "        )\n",
        " \n",
        "\n",
        "    def forward(self, x):\n",
        "        logits = self.model(x)\n",
        "        probs = F.softmax(logits, dim=1)\n",
        "        return logits, probs\n",
        "\n",
        "# Train \n",
        "\n",
        "LEARNING_RATE = 0.001\n",
        "N_EPOCHS = 15\n",
        "\n",
        "model_s = StudentNet(N_CLASSES).to(DEVICE)\n",
        "optimizer = torch.optim.Adam(model_s.parameters(), lr=LEARNING_RATE)\n",
        "criterion = nn.CrossEntropyLoss()\n",
        "\n",
        "model_s, optimizer, _ = training_loop(model_s, criterion, optimizer, train_loader, test_loader, N_EPOCHS, DEVICE)      "
      ],
      "execution_count": 16,
      "outputs": [
        {
          "output_type": "stream",
          "name": "stdout",
          "text": [
            "03:51:29 --- Epoch: 0\tTrain loss: 1.0429\tValid loss: 0.4802\tTrain accuracy: 85.14\tValid accuracy: 86.02\n",
            "03:51:48 --- Epoch: 1\tTrain loss: 0.4485\tValid loss: 0.3782\tTrain accuracy: 88.04\tValid accuracy: 88.99\n",
            "03:52:07 --- Epoch: 2\tTrain loss: 0.3799\tValid loss: 0.3319\tTrain accuracy: 89.44\tValid accuracy: 90.22\n",
            "03:52:26 --- Epoch: 3\tTrain loss: 0.3429\tValid loss: 0.3060\tTrain accuracy: 90.31\tValid accuracy: 90.98\n",
            "03:52:45 --- Epoch: 4\tTrain loss: 0.3178\tValid loss: 0.2882\tTrain accuracy: 90.70\tValid accuracy: 91.36\n",
            "03:53:04 --- Epoch: 5\tTrain loss: 0.2982\tValid loss: 0.2689\tTrain accuracy: 91.45\tValid accuracy: 91.88\n",
            "03:53:22 --- Epoch: 6\tTrain loss: 0.2807\tValid loss: 0.2534\tTrain accuracy: 91.96\tValid accuracy: 92.19\n",
            "03:53:43 --- Epoch: 7\tTrain loss: 0.2664\tValid loss: 0.2463\tTrain accuracy: 92.21\tValid accuracy: 92.56\n",
            "03:54:02 --- Epoch: 8\tTrain loss: 0.2540\tValid loss: 0.2327\tTrain accuracy: 92.79\tValid accuracy: 92.98\n",
            "03:54:21 --- Epoch: 9\tTrain loss: 0.2442\tValid loss: 0.2244\tTrain accuracy: 92.93\tValid accuracy: 93.26\n",
            "03:54:40 --- Epoch: 10\tTrain loss: 0.2360\tValid loss: 0.2261\tTrain accuracy: 93.09\tValid accuracy: 93.47\n",
            "03:54:59 --- Epoch: 11\tTrain loss: 0.2289\tValid loss: 0.2107\tTrain accuracy: 93.52\tValid accuracy: 93.74\n",
            "03:55:19 --- Epoch: 12\tTrain loss: 0.2229\tValid loss: 0.2044\tTrain accuracy: 93.63\tValid accuracy: 93.92\n",
            "03:55:38 --- Epoch: 13\tTrain loss: 0.2176\tValid loss: 0.1997\tTrain accuracy: 93.93\tValid accuracy: 94.11\n",
            "03:55:57 --- Epoch: 14\tTrain loss: 0.2131\tValid loss: 0.1979\tTrain accuracy: 93.86\tValid accuracy: 94.13\n"
          ]
        },
        {
          "output_type": "display_data",
          "data": {
            "image/png": "[encoded data removed]",
            "text/plain": [
              "<Figure size 800x450 with 1 Axes>"
            ]
          },
          "metadata": {}
        }
      ]
    },
    {
      "cell_type": "markdown",
      "metadata": {
        "id": "axpgY3M52BlK"
      },
      "source": [
        "## Compare FLOP"
      ]
    },
    {
      "cell_type": "markdown",
      "metadata": {
        "id": "zHCLyh079dlW"
      },
      "source": [
        ""
      ]
    },
    {
      "cell_type": "code",
      "metadata": {
        "colab": {
          "base_uri": "https://localhost:8080/"
        },
        "id": "6VSeyWHX2BQJ",
        "outputId": "c2eb9d54-7905-40a3-d4e0-cbcc825f4173"
      },
      "source": [
        "from pthflops import count_ops\n",
        "from torchsummary import summary\n",
        "\n",
        "teacher_model = LeNet5(N_CLASSES).to(DEVICE)\n",
        "\n",
        "summary(teacher_model, (1, 28, 28))\n",
        "count_ops(teacher_model.model, torch.rand(1,1,28,28).to(DEVICE))"
      ],
      "execution_count": 13,
      "outputs": [
        {
          "output_type": "stream",
          "name": "stdout",
          "text": [
            "----------------------------------------------------------------\n",
            "        Layer (type)               Output Shape         Param #\n",
            "================================================================\n",
            "            Conv2d-1            [-1, 6, 28, 28]             156\n",
            "              ReLU-2            [-1, 6, 28, 28]               0\n",
            "         AvgPool2d-3            [-1, 6, 14, 14]               0\n",
            "            Conv2d-4           [-1, 16, 10, 10]           2,416\n",
            "              ReLU-5           [-1, 16, 10, 10]               0\n",
            "         AvgPool2d-6             [-1, 16, 5, 5]               0\n",
            "           Flatten-7                  [-1, 400]               0\n",
            "            Linear-8                  [-1, 120]          48,120\n",
            "              ReLU-9                  [-1, 120]               0\n",
            "           Linear-10                   [-1, 84]          10,164\n",
            "             ReLU-11                   [-1, 84]               0\n",
            "           Linear-12                   [-1, 10]             850\n",
            "================================================================\n",
            "Total params: 61,706\n",
            "Trainable params: 61,706\n",
            "Non-trainable params: 0\n",
            "----------------------------------------------------------------\n",
            "Input size (MB): 0.00\n",
            "Forward/backward pass size (MB): 0.11\n",
            "Params size (MB): 0.24\n",
            "Estimated Total Size (MB): 0.35\n",
            "----------------------------------------------------------------\n",
            "OperationOPS      \n",
            "----  -------  \n",
            "_0    122304   \n",
            "_1    9408     \n",
            "_2    4704     \n",
            "_3    241600   \n",
            "_4    3200     \n",
            "_5    1600     \n",
            "_7    48120    \n",
            "_8    240      \n",
            "_9    10164    \n",
            "_10   168      \n",
            "_11   850      \n",
            "---   ------   \n",
            "Input size: (1, 1, 28, 28)\n",
            "442,358 FLOPs or approx. 0.00 GFLOPs\n"
          ]
        },
        {
          "output_type": "execute_result",
          "data": {
            "text/plain": [
              "(442358,\n",
              " [['_0', 122304],\n",
              "  ['_1', 9408],\n",
              "  ['_2', 4704],\n",
              "  ['_3', 241600],\n",
              "  ['_4', 3200],\n",
              "  ['_5', 1600],\n",
              "  ['_7', 48120],\n",
              "  ['_8', 240],\n",
              "  ['_9', 10164],\n",
              "  ['_10', 168],\n",
              "  ['_11', 850]])"
            ]
          },
          "metadata": {},
          "execution_count": 13
        }
      ]
    },
    {
      "cell_type": "code",
      "metadata": {
        "colab": {
          "base_uri": "https://localhost:8080/"
        },
        "id": "GAWr49Sm4p2g",
        "outputId": "9bbc961a-fadf-454f-bccb-497798ed5a86"
      },
      "source": [
        "student_model = StudentNet(N_CLASSES).to(DEVICE)\n",
        " \n",
        "summary(student_model, (1, 28, 28))\n",
        "count_ops(student_model.model, torch.rand(1,1,28,28).to(DEVICE))"
      ],
      "execution_count": 18,
      "outputs": [
        {
          "output_type": "stream",
          "name": "stdout",
          "text": [
            "----------------------------------------------------------------\n",
            "        Layer (type)               Output Shape         Param #\n",
            "================================================================\n",
            "            Conv2d-1            [-1, 1, 26, 26]              26\n",
            "              ReLU-2            [-1, 1, 26, 26]               0\n",
            "         AvgPool2d-3            [-1, 1, 13, 13]               0\n",
            "            Conv2d-4              [-1, 2, 9, 9]              52\n",
            "              ReLU-5              [-1, 2, 9, 9]               0\n",
            "         AvgPool2d-6              [-1, 2, 4, 4]               0\n",
            "           Flatten-7                   [-1, 32]               0\n",
            "            Linear-8                   [-1, 10]             330\n",
            "================================================================\n",
            "Total params: 408\n",
            "Trainable params: 408\n",
            "Non-trainable params: 0\n",
            "----------------------------------------------------------------\n",
            "Input size (MB): 0.00\n",
            "Forward/backward pass size (MB): 0.01\n",
            "Params size (MB): 0.00\n",
            "Estimated Total Size (MB): 0.02\n",
            "----------------------------------------------------------------\n",
            "OperationOPS     \n",
            "---  ------  \n",
            "_0   17576   \n",
            "_1   1352    \n",
            "_2   676     \n",
            "_3   4212    \n",
            "_4   324     \n",
            "_5   128     \n",
            "_7   330     \n",
            "--   -----   \n",
            "Input size: (1, 1, 28, 28)\n",
            "24,598 FLOPs or approx. 0.00 GFLOPs\n"
          ]
        },
        {
          "output_type": "execute_result",
          "data": {
            "text/plain": [
              "(24598,\n",
              " [['_0', 17576],\n",
              "  ['_1', 1352],\n",
              "  ['_2', 676],\n",
              "  ['_3', 4212],\n",
              "  ['_4', 324],\n",
              "  ['_5', 128],\n",
              "  ['_7', 330]])"
            ]
          },
          "metadata": {},
          "execution_count": 18
        }
      ]
    }
  ]
}